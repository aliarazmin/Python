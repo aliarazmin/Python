{
 "cells": [
  {
   "cell_type": "code",
   "execution_count": 14,
   "id": "4bf15131",
   "metadata": {},
   "outputs": [],
   "source": []
  },
  {
   "cell_type": "code",
   "execution_count": 15,
   "id": "dc88090c",
   "metadata": {},
   "outputs": [],
   "source": [
    "# Use for loop to find a given name in the list"
   ]
  },
  {
   "cell_type": "code",
   "execution_count": 24,
   "id": "950806c2",
   "metadata": {},
   "outputs": [],
   "source": [
    "fruit= [\"apple\",\"pishang\",\"cherry\",\"pinapple\" ]"
   ]
  },
  {
   "cell_type": "code",
   "execution_count": 25,
   "id": "2a1771cd",
   "metadata": {},
   "outputs": [
    {
     "name": "stdout",
     "output_type": "stream",
     "text": [
      "apple\n",
      "pishang\n",
      "cherry\n",
      "pinapple\n"
     ]
    }
   ],
   "source": [
    "for item in fruit:\n",
    "    print(item)"
   ]
  },
  {
   "cell_type": "code",
   "execution_count": 26,
   "id": "13cddd02",
   "metadata": {},
   "outputs": [
    {
     "name": "stdout",
     "output_type": "stream",
     "text": [
      "apple 0\n",
      "pishang 1\n",
      "cherry 2\n",
      "pinapple 3\n"
     ]
    }
   ],
   "source": [
    "index = 0\n",
    "for item in fruit:\n",
    "    print (item, index)\n",
    "    index += 1\n"
   ]
  },
  {
   "cell_type": "code",
   "execution_count": 27,
   "id": "19a6445c",
   "metadata": {},
   "outputs": [
    {
     "name": "stdout",
     "output_type": "stream",
     "text": [
      "The fruit name is apple at index: 1\n",
      "The fruit name is pishang at index: 2\n",
      "The fruit name is cherry at index: 3\n",
      "The fruit name is pinapple at index: 4\n"
     ]
    }
   ],
   "source": [
    "index = 1\n",
    "for item in fruit:\n",
    "    print (\"The fruit name is \" +item + \" at index:\", index)\n",
    "    index = index + 1\n"
   ]
  },
  {
   "cell_type": "code",
   "execution_count": 28,
   "id": "4e48717d",
   "metadata": {},
   "outputs": [
    {
     "name": "stdout",
     "output_type": "stream",
     "text": [
      "The fruit name is apple at index: 1\n",
      "The fruit name is pishang at index: 2\n",
      "The fruit name is cherry at index: 3\n",
      "The fruit name is pinapple at index: 4\n"
     ]
    }
   ],
   "source": [
    "index = 1\n",
    "for item in fruit:\n",
    "    print (\"The fruit name is \" +item + \" at index:\", index)\n",
    "    index = index + 1\n"
   ]
  },
  {
   "cell_type": "code",
   "execution_count": 30,
   "id": "3c1488cf",
   "metadata": {},
   "outputs": [
    {
     "name": "stdout",
     "output_type": "stream",
     "text": [
      "the item apple is in the list at index  1\n",
      "The fruit name is apple at index: 1\n",
      "The fruit name is pishang at index: 2\n",
      "The fruit name is cherry at index: 3\n",
      "the item apple is in the list at index  4\n",
      "The fruit name is pinapple at index: 4\n"
     ]
    }
   ],
   "source": [
    "index = 1\n",
    "for item in fruit:\n",
    "    if 'apple' in item:\n",
    "        print ('the item apple is in the list at index ', index)\n",
    "    print (\"The fruit name is \" + item + \" at index:\", index)\n",
    "    index = index + 1"
   ]
  },
  {
   "cell_type": "code",
   "execution_count": 32,
   "id": "c746d187",
   "metadata": {},
   "outputs": [
    {
     "name": "stdout",
     "output_type": "stream",
     "text": [
      "the item apple is in the list at index  1\n"
     ]
    }
   ],
   "source": [
    "index = 1\n",
    "for item in fruit:\n",
    "    if 'apple' == item:\n",
    "        print ('the item apple is in the list at index ', index)\n",
    "        \n",
    "    index = index + 1"
   ]
  },
  {
   "cell_type": "code",
   "execution_count": 33,
   "id": "81821287",
   "metadata": {},
   "outputs": [
    {
     "name": "stdout",
     "output_type": "stream",
     "text": [
      "the item apple is in the list at index  1\n",
      "the item apple is in the list at index  4\n"
     ]
    }
   ],
   "source": [
    "index = 1\n",
    "for item in fruit:\n",
    "    if 'apple' in item:\n",
    "        print ('the item apple is in the list at index ', index)\n",
    "        \n",
    "    index = index + 1"
   ]
  },
  {
   "cell_type": "code",
   "execution_count": 34,
   "id": "b1192511",
   "metadata": {},
   "outputs": [
    {
     "name": "stdout",
     "output_type": "stream",
     "text": [
      "1\n",
      "2\n",
      "3\n",
      "4\n",
      "5\n",
      "6\n",
      "7\n",
      "8\n",
      "9\n"
     ]
    }
   ],
   "source": [
    "for x in range(1, 10):\n",
    "    print (x)"
   ]
  },
  {
   "cell_type": "code",
   "execution_count": 35,
   "id": "8a493855",
   "metadata": {},
   "outputs": [
    {
     "name": "stdout",
     "output_type": "stream",
     "text": [
      "5\n",
      "6\n",
      "7\n",
      "8\n",
      "9\n",
      "10\n",
      "11\n",
      "12\n",
      "13\n",
      "14\n",
      "15\n",
      "16\n",
      "17\n",
      "18\n",
      "19\n",
      "20\n",
      "21\n",
      "22\n",
      "23\n",
      "24\n",
      "25\n",
      "26\n",
      "27\n",
      "28\n",
      "29\n",
      "30\n",
      "31\n",
      "32\n",
      "33\n",
      "34\n",
      "35\n",
      "36\n",
      "37\n",
      "38\n",
      "39\n",
      "40\n",
      "41\n",
      "42\n",
      "43\n",
      "44\n",
      "45\n",
      "46\n",
      "47\n",
      "48\n",
      "49\n",
      "50\n",
      "51\n",
      "52\n",
      "53\n",
      "54\n",
      "55\n",
      "56\n",
      "57\n",
      "58\n",
      "59\n",
      "60\n",
      "61\n",
      "62\n",
      "63\n",
      "64\n",
      "65\n",
      "66\n",
      "67\n",
      "68\n",
      "69\n",
      "70\n",
      "71\n",
      "72\n",
      "73\n",
      "74\n",
      "75\n",
      "76\n",
      "77\n",
      "78\n",
      "79\n",
      "80\n",
      "81\n",
      "82\n",
      "83\n",
      "84\n",
      "85\n",
      "86\n",
      "87\n",
      "88\n",
      "89\n",
      "90\n",
      "91\n",
      "92\n",
      "93\n",
      "94\n",
      "95\n",
      "96\n",
      "97\n",
      "98\n",
      "99\n",
      "100\n"
     ]
    }
   ],
   "source": [
    "for x in range(5, 101):\n",
    "    print (x)"
   ]
  },
  {
   "cell_type": "code",
   "execution_count": null,
   "id": "056b147a",
   "metadata": {},
   "outputs": [],
   "source": [
    "count = 1\n",
    "while (count < 10):\n",
    "    print (count)\n",
    "    count = count + 1"
   ]
  },
  {
   "cell_type": "code",
   "execution_count": null,
   "id": "f7b823ea",
   "metadata": {},
   "outputs": [],
   "source": [
    "count = 1\n",
    "while (count <= 100):\n",
    "    if count % 2 == 0:\n",
    "        print (\"this is even number: \", count)\n",
    "    count = count + 1"
   ]
  },
  {
   "cell_type": "code",
   "execution_count": null,
   "id": "373510e8",
   "metadata": {},
   "outputs": [],
   "source": [
    "count = 1\n",
    "while (count <= 100):\n",
    "    if count % 2 == 0:\n",
    "        print (\"this is even number: \", count)\n",
    "        break\n",
    "    count = count + 1"
   ]
  },
  {
   "cell_type": "code",
   "execution_count": null,
   "id": "ec3bf9d3",
   "metadata": {},
   "outputs": [],
   "source": [
    "count = 1\n",
    "while (count <= 100):\n",
    "    if count == 5:\n",
    "        continue     \n",
    "    print (count)\n",
    "    count = count + 1"
   ]
  },
  {
   "cell_type": "code",
   "execution_count": null,
   "id": "8c9cd879",
   "metadata": {},
   "outputs": [],
   "source": [
    "for num in range(5):\n",
    "    if num == 2:\n",
    "        continue\n",
    "    print (num)"
   ]
  },
  {
   "cell_type": "code",
   "execution_count": null,
   "id": "db45d8a1",
   "metadata": {},
   "outputs": [],
   "source": [
    "for i in range(3):\n",
    "    for j in range(3):\n",
    "        print(i,j)"
   ]
  },
  {
   "cell_type": "code",
   "execution_count": null,
   "id": "86c2c25c",
   "metadata": {},
   "outputs": [],
   "source": []
  }
 ],
 "metadata": {
  "kernelspec": {
   "display_name": "Python 3 (ipykernel)",
   "language": "python",
   "name": "python3"
  },
  "language_info": {
   "codemirror_mode": {
    "name": "ipython",
    "version": 3
   },
   "file_extension": ".py",
   "mimetype": "text/x-python",
   "name": "python",
   "nbconvert_exporter": "python",
   "pygments_lexer": "ipython3",
   "version": "3.11.5"
  }
 },
 "nbformat": 4,
 "nbformat_minor": 5
}
