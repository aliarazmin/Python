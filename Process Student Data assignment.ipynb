{
 "cells": [
  {
   "cell_type": "code",
   "execution_count": 9,
   "id": "520bab17",
   "metadata": {},
   "outputs": [],
   "source": [
    "import csv\n",
    "\n",
    "def process_students_file(input_file, output_file):\n",
    "    with open (input_file, mode='r', newline='') as file:\n",
    "        reader = csv.DictReader (file)\n",
    "        \n",
    "        filtered_students = []\n",
    "        for row in reader:\n",
    "            if row ['Grade'] in ['A', 'B']:\n",
    "                row['Status'] = 'Passed'\n",
    "                filtered_students.append(row)\n",
    "                \n",
    "    if filtered_students:\n",
    "        with open (output_file, mode='w', newline='') as file:\n",
    "            writer = csv.DictWriter(file, fieldnames=filtered_students[0].keys())\n",
    "            writer.writeheader()\n",
    "            writer.writerows(filtered_students)\n",
    "            \n",
    "process_students_file('students.csv', 'top_students.csv')\n"
   ]
  },
  {
   "cell_type": "code",
   "execution_count": 10,
   "id": "5a328f43",
   "metadata": {},
   "outputs": [
    {
     "name": "stdout",
     "output_type": "stream",
     "text": [
      "Filtered data saved to top_students.csv\n"
     ]
    }
   ],
   "source": [
    "import csv\n",
    "\n",
    "def read_csv(filename):\n",
    "    data = []\n",
    "    with open(filename, 'r') as csvfile:\n",
    "        reader = csv.DictReader (csvfile)\n",
    "        for row in reader:\n",
    "            data.append (row)\n",
    "    return data\n",
    "\n",
    "def filter_students(data):\n",
    "    filtered_data = []\n",
    "    for student in data:\n",
    "        if student['Grade'] <= 'B':\n",
    "            filtered_data.append (student)\n",
    "    return filtered_data\n",
    "\n",
    "def add_status_column(data):\n",
    "    for student in data:\n",
    "        student['Status'] = 'Passed'\n",
    "    return data\n",
    "\n",
    "def write_csv(data, output_filename):\n",
    "    fieldnames = data[0].keys()\n",
    "    with open(output_filename, 'w', newline='') as csvfile:\n",
    "        writer = csv.DictWriter(csvfile, fieldnames=fieldnames)\n",
    "        writer.writeheader()\n",
    "        writer.writerows(data)\n",
    "        \n",
    "if __name__ == \"__main__\":\n",
    "    input_filename = \"students.csv\"\n",
    "    output_filename = \"top_students.csv\"\n",
    "    \n",
    "    student_data = read_csv(input_filename)\n",
    "    filtered_students = filter_students(student_data)\n",
    "    students_with_status = add_status_column(filtered_students)\n",
    "    write_csv(students_with_status, output_filename)\n",
    "    \n",
    "    print(\"Filtered data saved to \" + output_filename)"
   ]
  },
  {
   "cell_type": "code",
   "execution_count": null,
   "id": "dcf5644b",
   "metadata": {},
   "outputs": [],
   "source": []
  }
 ],
 "metadata": {
  "kernelspec": {
   "display_name": "Python 3 (ipykernel)",
   "language": "python",
   "name": "python3"
  },
  "language_info": {
   "codemirror_mode": {
    "name": "ipython",
    "version": 3
   },
   "file_extension": ".py",
   "mimetype": "text/x-python",
   "name": "python",
   "nbconvert_exporter": "python",
   "pygments_lexer": "ipython3",
   "version": "3.11.5"
  }
 },
 "nbformat": 4,
 "nbformat_minor": 5
}
