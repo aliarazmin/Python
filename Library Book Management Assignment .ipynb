{
 "cells": [
  {
   "cell_type": "code",
   "execution_count": 24,
   "id": "3302c90b",
   "metadata": {},
   "outputs": [],
   "source": [
    "def checkout_books(librarian_name, *book_titles, checkout_duration='2 weeks', **details):\n",
    "    print(\"Checkout Processed by: \" + librarian_name)\n",
    "    print(\"Books Checked Out: \")\n",
    "    for book_title in book_titles:\n",
    "        print(\"- \" + book_title)\n",
    "    print(\"Checkout Duration: \" + checkout_duration)\n",
    "    print(\"Additional Checkout Details: \")\n",
    "    for detail, value in details.items():\n",
    "        print(\"- \" + detail.replace('_', ' ').title() + \": \" + str(value))  \n",
    "  "
   ]
  },
  {
   "cell_type": "code",
   "execution_count": 26,
   "id": "2f5e9b57",
   "metadata": {},
   "outputs": [
    {
     "name": "stdout",
     "output_type": "stream",
     "text": [
      "Checkout Processed by: Sarah Connor\n",
      "Books Checked Out: \n",
      "- 1984\n",
      "- Brave New World\n",
      "Checkout Duration: 2 weeks\n",
      "Additional Checkout Details: \n",
      "- Late Fee: $0.25\n",
      "- Renewals Allowed: 2\n",
      "- Special Condition: Handle with care\n"
     ]
    }
   ],
   "source": [
    "checkout_books('Sarah Connor', '1984', 'Brave New World', Late_Fee='$0.25', Renewals_Allowed='2', special_condition='Handle with care',)"
   ]
  },
  {
   "cell_type": "code",
   "execution_count": null,
   "id": "aa2d12fd",
   "metadata": {},
   "outputs": [],
   "source": []
  }
 ],
 "metadata": {
  "kernelspec": {
   "display_name": "Python 3 (ipykernel)",
   "language": "python",
   "name": "python3"
  },
  "language_info": {
   "codemirror_mode": {
    "name": "ipython",
    "version": 3
   },
   "file_extension": ".py",
   "mimetype": "text/x-python",
   "name": "python",
   "nbconvert_exporter": "python",
   "pygments_lexer": "ipython3",
   "version": "3.11.5"
  }
 },
 "nbformat": 4,
 "nbformat_minor": 5
}
