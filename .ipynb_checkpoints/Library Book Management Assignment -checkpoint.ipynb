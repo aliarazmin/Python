{
 "cells": [
  {
   "cell_type": "code",
   "execution_count": 2,
   "id": "48f3bdf7",
   "metadata": {},
   "outputs": [
    {
     "ename": "TypeError",
     "evalue": "can only concatenate str (not \"tuple\") to str",
     "output_type": "error",
     "traceback": [
      "\u001b[1;31m---------------------------------------------------------------------------\u001b[0m",
      "\u001b[1;31mTypeError\u001b[0m                                 Traceback (most recent call last)",
      "Cell \u001b[1;32mIn[2], line 4\u001b[0m\n\u001b[0;32m      1\u001b[0m \u001b[38;5;28;01mdef\u001b[39;00m \u001b[38;5;21mcheckout_books\u001b[39m(librarian_name, \u001b[38;5;241m*\u001b[39mbook_titles):\n\u001b[0;32m      2\u001b[0m     \u001b[38;5;28mprint\u001b[39m( \u001b[38;5;124m\"\u001b[39m\u001b[38;5;124m Book checkout of  \u001b[39m\u001b[38;5;124m\"\u001b[39m \u001b[38;5;241m+\u001b[39m book_titles \u001b[38;5;241m+\u001b[39m \u001b[38;5;124m\"\u001b[39m\u001b[38;5;124m are processed by \u001b[39m\u001b[38;5;124m\"\u001b[39m \u001b[38;5;241m+\u001b[39m librarian_name)\n\u001b[1;32m----> 4\u001b[0m checkout_books(\u001b[38;5;124m'\u001b[39m\u001b[38;5;124mSarah Connor\u001b[39m\u001b[38;5;124m'\u001b[39m, \u001b[38;5;124m'\u001b[39m\u001b[38;5;124m1984\u001b[39m\u001b[38;5;124m'\u001b[39m, \u001b[38;5;124m'\u001b[39m\u001b[38;5;124mBrave New World\u001b[39m\u001b[38;5;124m'\u001b[39m)\n",
      "Cell \u001b[1;32mIn[2], line 2\u001b[0m, in \u001b[0;36mcheckout_books\u001b[1;34m(librarian_name, *book_titles)\u001b[0m\n\u001b[0;32m      1\u001b[0m \u001b[38;5;28;01mdef\u001b[39;00m \u001b[38;5;21mcheckout_books\u001b[39m(librarian_name, \u001b[38;5;241m*\u001b[39mbook_titles):\n\u001b[1;32m----> 2\u001b[0m     \u001b[38;5;28mprint\u001b[39m( \u001b[38;5;124m\"\u001b[39m\u001b[38;5;124m Book checkout of  \u001b[39m\u001b[38;5;124m\"\u001b[39m \u001b[38;5;241m+\u001b[39m book_titles \u001b[38;5;241m+\u001b[39m \u001b[38;5;124m\"\u001b[39m\u001b[38;5;124m are processed by \u001b[39m\u001b[38;5;124m\"\u001b[39m \u001b[38;5;241m+\u001b[39m librarian_name)\n",
      "\u001b[1;31mTypeError\u001b[0m: can only concatenate str (not \"tuple\") to str"
     ]
    }
   ],
   "source": [
    "def checkout_books(librarian_name, *book_titles):\n",
    "    print( \" Book checkout of  \" + book_titles + \" are processed by \" + librarian_name)\n",
    "\n",
    "checkout_books('Sarah Connor', '1984', 'Brave New World')"
   ]
  },
  {
   "cell_type": "code",
   "execution_count": 13,
   "id": "ccf7f70d",
   "metadata": {},
   "outputs": [],
   "source": [
    "def checkout_books(librarian_name, *book_titles, checkout_duration='2 weeks', **details):\n",
    "    print(\"Checkout Processed by: \" + librarian_name)\n",
    "    print(\"Books Checked Out: \")\n",
    "    for book_title in book_titles:\n",
    "        print(\"- \" + book_title)\n",
    "    print(\"Checkout Duration: \" + checkout_duration)\n",
    "    print(\"Additional Checkout Details: \")\n",
    "    for detail, value in details.items():\n",
    "        print(\"- \" + detail.replace('_', ' ').title() + \": \" + str(value))  \n",
    "    "
   ]
  },
  {
   "cell_type": "code",
   "execution_count": 15,
   "id": "28c74081",
   "metadata": {},
   "outputs": [
    {
     "name": "stdout",
     "output_type": "stream",
     "text": [
      "Checkout Processed by: Sarah Connor\n",
      "Books Checked Out: \n",
      "- 1984\n",
      "- Brave New World\n",
      "Checkout Duration: 2 weeks\n",
      "Additional Checkout Details: \n",
      "- Late Fee: $0.25\n",
      "- Renewals Allowed: 2\n"
     ]
    }
   ],
   "source": [
    "checkout_books('Sarah Connor', '1984', 'Brave New World', Late_Fee='$0.25', Renewals_Allowed='2')"
   ]
  },
  {
   "cell_type": "code",
   "execution_count": 33,
   "id": "3302c90b",
   "metadata": {},
   "outputs": [],
   "source": [
    "def checkout_books(librarian_name, *book_titles, checkout_duration='2 weeks', **details):\n",
    "    print(\"Checkout Processed by: \" + librarian_name)\n",
    "    print(\"Books Checked Out: \")\n",
    "    for book_title in book_titles:\n",
    "        print(\"- \" + book_title)\n",
    "    print(\"Checkout Duration: \" + checkout_duration)\n",
    "    print(\"Additional Checkout Details: \")\n",
    "    for detail, value in details.items():\n",
    "        print(\"- \" + detail.replace('_', ' ').title() + \": \" + str(value))  \n",
    "  "
   ]
  },
  {
   "cell_type": "code",
   "execution_count": 34,
   "id": "2f5e9b57",
   "metadata": {},
   "outputs": [
    {
     "name": "stdout",
     "output_type": "stream",
     "text": [
      "Checkout Processed by: Sarah Connor\n",
      "Books Checked Out: \n",
      "- 1984\n",
      "- Brave New World\n",
      "Checkout Duration: 2 weeks\n",
      "Additional Checkout Details: \n",
      "- Late Fee: $0.25\n",
      "- Renewals Allowed: 2\n",
      "- Special Condition: Handle with care\n"
     ]
    }
   ],
   "source": [
    "checkout_books('Sarah Connor', '1984', 'Brave New World', Late_Fee='$0.25', Renewals_Allowed='2', special_condition='Handle with care')"
   ]
  },
  {
   "cell_type": "code",
   "execution_count": 40,
   "id": "350f2372",
   "metadata": {},
   "outputs": [],
   "source": [
    "def checkout_books(librarian_name, *book_titles, checkout_duration='2 weeks', **details):\n",
    "    print(\"Checkout Processed by: \" + librarian_name)\n",
    "    print(\"Books Checked Out: \")\n",
    "    for book_title in book_titles:\n",
    "        print(\"- \" + book_title)\n",
    "    print(\"Checkout Duration: \" + checkout_duration)\n",
    "    print(\"Additional Checkout Details: \")\n",
    "    for detail, value in details.items():\n",
    "        print(\"- \" + detail.replace('_', ' ').title() + \": \" + str(value))  \n",
    "    print(\"Special Conditions for Checkout: \")\n",
    "    for key, value in details.items():\n",
    "        print(\"- \" + detail.replace('_', ' ').title())"
   ]
  },
  {
   "cell_type": "code",
   "execution_count": 43,
   "id": "8d7a9be9",
   "metadata": {},
   "outputs": [
    {
     "ename": "SyntaxError",
     "evalue": "positional argument follows keyword argument (526589212.py, line 1)",
     "output_type": "error",
     "traceback": [
      "\u001b[1;36m  Cell \u001b[1;32mIn[43], line 1\u001b[1;36m\u001b[0m\n\u001b[1;33m    checkout_books('Sarah Connor', '1984', 'Brave New World', Late_Fee='$0.25', Renewals_Allowed='2', handle_with_care)\u001b[0m\n\u001b[1;37m                                                                                                                      ^\u001b[0m\n\u001b[1;31mSyntaxError\u001b[0m\u001b[1;31m:\u001b[0m positional argument follows keyword argument\n"
     ]
    }
   ],
   "source": [
    "checkout_books('Sarah Connor', '1984', 'Brave New World', Late_Fee='$0.25', Renewals_Allowed='2', handle_with_care)"
   ]
  },
  {
   "cell_type": "code",
   "execution_count": null,
   "id": "0e9c161f",
   "metadata": {},
   "outputs": [],
   "source": []
  }
 ],
 "metadata": {
  "kernelspec": {
   "display_name": "Python 3 (ipykernel)",
   "language": "python",
   "name": "python3"
  },
  "language_info": {
   "codemirror_mode": {
    "name": "ipython",
    "version": 3
   },
   "file_extension": ".py",
   "mimetype": "text/x-python",
   "name": "python",
   "nbconvert_exporter": "python",
   "pygments_lexer": "ipython3",
   "version": "3.11.5"
  }
 },
 "nbformat": 4,
 "nbformat_minor": 5
}
