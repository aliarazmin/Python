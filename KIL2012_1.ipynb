{
 "cells": [
  {
   "cell_type": "code",
   "execution_count": 11,
   "id": "197c38ba",
   "metadata": {},
   "outputs": [
    {
     "name": "stdout",
     "output_type": "stream",
     "text": [
      "bye\n"
     ]
    }
   ],
   "source": [
    "x = 0.2\n",
    "y = 20\n",
    "\n",
    "if isinstance (x, int):\n",
    "    print (\"hello\")\n",
    "else:\n",
    "    print (\"bye\")\n",
    "    "
   ]
  },
  {
   "cell_type": "code",
   "execution_count": 12,
   "id": "3ae3e224",
   "metadata": {},
   "outputs": [
    {
     "name": "stdout",
     "output_type": "stream",
     "text": [
      "hello\n"
     ]
    }
   ],
   "source": [
    "x = \"11\"\n",
    "y = 20\n",
    "\n",
    "if isinstance (x, str):\n",
    "    print (\"hello\")\n",
    "else:\n",
    "    print (\"bye\")"
   ]
  },
  {
   "cell_type": "code",
   "execution_count": 13,
   "id": "046e78d6",
   "metadata": {},
   "outputs": [
    {
     "name": "stdout",
     "output_type": "stream",
     "text": [
      "bye\n"
     ]
    }
   ],
   "source": [
    "x = 11\n",
    "y = 20\n",
    "\n",
    "if isinstance (x, str):\n",
    "    print (\"hello\")\n",
    "else:\n",
    "    print (\"bye\")"
   ]
  },
  {
   "cell_type": "code",
   "execution_count": 14,
   "id": "dc10a7af",
   "metadata": {},
   "outputs": [
    {
     "name": "stdout",
     "output_type": "stream",
     "text": [
      "bye\n"
     ]
    }
   ],
   "source": [
    "x = 11\n",
    "y = 20\n",
    "\n",
    "if x == 10:\n",
    "    print (\"hello\")\n",
    "else:\n",
    "    print (\"bye\")"
   ]
  },
  {
   "cell_type": "code",
   "execution_count": 16,
   "id": "aa69320e",
   "metadata": {},
   "outputs": [
    {
     "name": "stdout",
     "output_type": "stream",
     "text": [
      "3\n"
     ]
    }
   ],
   "source": [
    "x = ['Sara', 'Ahmed', 'Moana']\n",
    "\n",
    "print (len(x))"
   ]
  },
  {
   "cell_type": "code",
   "execution_count": 17,
   "id": "9a219cf1",
   "metadata": {},
   "outputs": [
    {
     "name": "stdout",
     "output_type": "stream",
     "text": [
      "5\n"
     ]
    }
   ],
   "source": [
    "x = ['Sara', 'Ahmed', 'Moana', 'Cale', 'ehehehe']\n",
    "\n",
    "print (len(x))"
   ]
  },
  {
   "cell_type": "code",
   "execution_count": 21,
   "id": "0ca32cbd",
   "metadata": {},
   "outputs": [
    {
     "data": {
      "text/plain": [
       "range(0, 5)"
      ]
     },
     "execution_count": 21,
     "metadata": {},
     "output_type": "execute_result"
    }
   ],
   "source": [
    "range (5)"
   ]
  },
  {
   "cell_type": "code",
   "execution_count": 19,
   "id": "83b42d47",
   "metadata": {},
   "outputs": [
    {
     "data": {
      "text/plain": [
       "range(0, 1000)"
      ]
     },
     "execution_count": 19,
     "metadata": {},
     "output_type": "execute_result"
    }
   ],
   "source": [
    "range (1000)"
   ]
  },
  {
   "cell_type": "code",
   "execution_count": 22,
   "id": "0abcfe8e",
   "metadata": {},
   "outputs": [
    {
     "data": {
      "text/plain": [
       "range(0, 1000)"
      ]
     },
     "execution_count": 22,
     "metadata": {},
     "output_type": "execute_result"
    }
   ],
   "source": [
    "# this is a range of number from 0 to 999\n",
    "range (1000)"
   ]
  },
  {
   "cell_type": "code",
   "execution_count": 23,
   "id": "8ff231b5",
   "metadata": {},
   "outputs": [
    {
     "name": "stdout",
     "output_type": "stream",
     "text": [
      "{'name': 'Cale', 'age': 20}\n"
     ]
    }
   ],
   "source": [
    "commander = {\"name\": \"Cale\", \"age\": 20}\n",
    "\n",
    "print (commander)"
   ]
  },
  {
   "cell_type": "code",
   "execution_count": 25,
   "id": "6ab3bc96",
   "metadata": {},
   "outputs": [
    {
     "name": "stdout",
     "output_type": "stream",
     "text": [
      "dict_values(['Cale', 20])\n"
     ]
    }
   ],
   "source": [
    "commander = {\"name\": \"Cale\", \"age\": 20}\n",
    "\n",
    "print (commander.values())"
   ]
  },
  {
   "cell_type": "code",
   "execution_count": 27,
   "id": "b468e4c0",
   "metadata": {},
   "outputs": [
    {
     "name": "stdout",
     "output_type": "stream",
     "text": [
      "dict_keys(['name', 'age'])\n"
     ]
    }
   ],
   "source": [
    "commander = {\"name\": \"Cale\", \"age\": 20}\n",
    "\n",
    "print (commander.keys())"
   ]
  },
  {
   "cell_type": "code",
   "execution_count": 28,
   "id": "5ced5c66",
   "metadata": {},
   "outputs": [
    {
     "name": "stdout",
     "output_type": "stream",
     "text": [
      "20\n"
     ]
    }
   ],
   "source": [
    "commander = {\"name\": \"Cale\", \"age\": 20}\n",
    "\n",
    "print (commander[\"age\"])"
   ]
  },
  {
   "cell_type": "code",
   "execution_count": 31,
   "id": "01f39b1d",
   "metadata": {},
   "outputs": [
    {
     "name": "stdout",
     "output_type": "stream",
     "text": [
      "dict_values(['Choi Han', 'unknown']) dict_values(['Cale', 20])\n"
     ]
    }
   ],
   "source": [
    "commander = {\"name\": \"Cale\", \"age\": 20}\n",
    "swordmaster = {\"name\": \"Choi Han\", \"age\": \"unknown\"}\n",
    "\n",
    "print (swordmaster.values(), commander.values())"
   ]
  },
  {
   "cell_type": "code",
   "execution_count": 34,
   "id": "44fcec69",
   "metadata": {},
   "outputs": [
    {
     "name": "stdout",
     "output_type": "stream",
     "text": [
      "30\n"
     ]
    }
   ],
   "source": [
    "def add (a,b):\n",
    "    z = a + b\n",
    "    print (z)\n",
    "    \n",
    "add (10,20)"
   ]
  },
  {
   "cell_type": "code",
   "execution_count": 39,
   "id": "8e188766",
   "metadata": {},
   "outputs": [
    {
     "name": "stdout",
     "output_type": "stream",
     "text": [
      "-10\n"
     ]
    }
   ],
   "source": [
    "def minus (a,b):\n",
    "    z = a - b\n",
    "    print (z)\n",
    "    \n",
    "minus (10,20)"
   ]
  },
  {
   "cell_type": "code",
   "execution_count": 40,
   "id": "94703c91",
   "metadata": {},
   "outputs": [
    {
     "name": "stdout",
     "output_type": "stream",
     "text": [
      "200\n"
     ]
    }
   ],
   "source": [
    "def multiply (a,b):\n",
    "    z = a * b\n",
    "    print (z)\n",
    "    \n",
    "multiply (10,20)"
   ]
  },
  {
   "cell_type": "code",
   "execution_count": 42,
   "id": "ca371fe5",
   "metadata": {},
   "outputs": [
    {
     "name": "stdout",
     "output_type": "stream",
     "text": [
      "0.5\n"
     ]
    }
   ],
   "source": [
    "def divide (a,b):\n",
    "    z = a / b\n",
    "    print (z)\n",
    "    \n",
    "divide (10,20)"
   ]
  },
  {
   "cell_type": "code",
   "execution_count": 46,
   "id": "ad07c756",
   "metadata": {},
   "outputs": [
    {
     "name": "stdout",
     "output_type": "stream",
     "text": [
      "0.5\n"
     ]
    }
   ],
   "source": [
    "def add (a,b):\n",
    "    return a + b\n",
    "\n",
    "def minus (a,b):\n",
    "    return a - b\n",
    "    \n",
    "def multiply (a,b):\n",
    "    return a * b\n",
    "    \n",
    "def divide (a,b):\n",
    "    return a / b\n",
    "    \n",
    "    \n",
    "print(divide((multiply(5,2)),20))"
   ]
  },
  {
   "cell_type": "code",
   "execution_count": null,
   "id": "64361073",
   "metadata": {},
   "outputs": [],
   "source": []
  }
 ],
 "metadata": {
  "kernelspec": {
   "display_name": "Python 3 (ipykernel)",
   "language": "python",
   "name": "python3"
  },
  "language_info": {
   "codemirror_mode": {
    "name": "ipython",
    "version": 3
   },
   "file_extension": ".py",
   "mimetype": "text/x-python",
   "name": "python",
   "nbconvert_exporter": "python",
   "pygments_lexer": "ipython3",
   "version": "3.11.5"
  }
 },
 "nbformat": 4,
 "nbformat_minor": 5
}
