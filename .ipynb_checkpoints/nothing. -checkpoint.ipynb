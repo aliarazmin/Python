{
 "cells": [
  {
   "cell_type": "code",
   "execution_count": 1,
   "id": "1dc3377a",
   "metadata": {},
   "outputs": [
    {
     "ename": "ModuleNotFoundError",
     "evalue": "No module named 'CoolProp'",
     "output_type": "error",
     "traceback": [
      "\u001b[1;31m---------------------------------------------------------------------------\u001b[0m",
      "\u001b[1;31mModuleNotFoundError\u001b[0m                       Traceback (most recent call last)",
      "Cell \u001b[1;32mIn[1], line 1\u001b[0m\n\u001b[1;32m----> 1\u001b[0m \u001b[38;5;28;01mimport\u001b[39;00m \u001b[38;5;21;01mCoolProp\u001b[39;00m\u001b[38;5;21;01m.\u001b[39;00m\u001b[38;5;21;01mCoolProp\u001b[39;00m \u001b[38;5;28;01mas\u001b[39;00m \u001b[38;5;21;01mCP\u001b[39;00m\n\u001b[0;32m      2\u001b[0m \u001b[38;5;28;01mimport\u001b[39;00m \u001b[38;5;21;01mnumpy\u001b[39;00m \u001b[38;5;28;01mas\u001b[39;00m \u001b[38;5;21;01mnp\u001b[39;00m\n\u001b[0;32m      3\u001b[0m \u001b[38;5;28;01mimport\u001b[39;00m \u001b[38;5;21;01mitertools\u001b[39;00m\n",
      "\u001b[1;31mModuleNotFoundError\u001b[0m: No module named 'CoolProp'"
     ]
    }
   ],
   "source": [
    "import CoolProp.CoolProp as CP\n",
    "import numpy as np\n",
    "import itertools\n",
    "from multiprocessing import Pool\n",
    "CP.set_config_bool(CP.DONT_CHECK_PROPERTY_LIMITS, True)\n",
    "\n",
    "def generate_values(TR,P=101325):\n",
    "    \"\"\" Starting with T,R as inputs, generate all other values \"\"\"\n",
    "    T,R = TR\n",
    "    psi_w = CP.HAPropsSI('psi_w','T',T,'R',R,'P',P)\n",
    "    other_output_keys = ['T_wb','T_dp','Hda','Sda','Vda','Omega']\n",
    "    outputs = {'psi_w':psi_w,'T':T,'P':P,'R':R}\n",
    "    for k in other_output_keys:\n",
    "        outputs[k] = CP.HAPropsSI(k,'T',T,'R',R,'P',P)\n",
    "    return outputs\n",
    "\n",
    "def get_supported_input_pairs():\n",
    "    \"\"\" Determine which input pairs are supported \"\"\"\n",
    "    good_ones = []\n",
    "    inputs = generate_values((300, 0.5))\n",
    "    for k1, k2 in itertools.product(inputs.keys(), inputs.keys()):\n",
    "        if 'P' in [k1,k2] or k1==k2:\n",
    "            continue\n",
    "        args = ('psi_w', k1, inputs[k1], k2, inputs[k2], 'P', inputs['P'])\n",
    "        try:\n",
    "            psi_w_new = CP.HAPropsSI(*args)\n",
    "            if not np.isfinite(psi_w_new):\n",
    "                raise ValueError('Returned NaN; not ok')\n",
    "            good_ones.append((k1,k2))\n",
    "        except BaseException as BE:\n",
    "            pass\n",
    "            if 'currently at least one of' in str(BE) or 'cannot provide two inputs' in str(BE):\n",
    "                pass\n",
    "            else:\n",
    "                print(BE)\n",
    "                good_ones.append((k1,k2))\n",
    "    return good_ones\n",
    "supported_pairs = get_supported_input_pairs()\n",
    "\n",
    "def calculate(inputs):\n",
    "    \"\"\" For a given input, try all possible input pairs \"\"\"\n",
    "    errors = []\n",
    "    for k1, k2 in supported_pairs:\n",
    "        psi_w_input = inputs['psi_w']\n",
    "        args = 'psi_w',k1,inputs[k1],k2,inputs[k2],'P',inputs['P']\n",
    "        try:\n",
    "            psi_w_new = CP.HAPropsSI(*args)\n",
    "            if not np.isfinite(psi_w_new):\n",
    "                raise ValueError('Returned NaN; not ok')\n",
    "        except BaseException as BE:\n",
    "            errors.append((str(BE),args, inputs))\n",
    "    return errors\n",
    "\n",
    "if __name__ == '__main__':\n",
    "    import CoolProp\n",
    "    print(CoolProp.__version__)\n",
    "    TR = itertools.product(np.linspace(240, 345, 11), np.linspace(0, 1, 11))\n",
    "    with Pool(processes=2) as pool:\n",
    "        input_values = pool.map(generate_values, TR)\n",
    "        errors = pool.map(calculate, input_values)\n",
    "        for err in itertools.chain.from_iterable(errors):\n",
    "            print(err)"
   ]
  },
  {
   "cell_type": "code",
   "execution_count": 5,
   "id": "b2df543f",
   "metadata": {},
   "outputs": [
    {
     "ename": "ModuleNotFoundError",
     "evalue": "No module named 'CoolProp'",
     "output_type": "error",
     "traceback": [
      "\u001b[1;31m---------------------------------------------------------------------------\u001b[0m",
      "\u001b[1;31mModuleNotFoundError\u001b[0m                       Traceback (most recent call last)",
      "Cell \u001b[1;32mIn[5], line 2\u001b[0m\n\u001b[0;32m      1\u001b[0m \u001b[38;5;28;01mimport\u001b[39;00m \u001b[38;5;21;01mnumpy\u001b[39;00m \u001b[38;5;28;01mas\u001b[39;00m \u001b[38;5;21;01mnp\u001b[39;00m\n\u001b[1;32m----> 2\u001b[0m \u001b[38;5;28;01mimport\u001b[39;00m \u001b[38;5;21;01mCoolProp\u001b[39;00m\u001b[38;5;21;01m.\u001b[39;00m\u001b[38;5;21;01mCoolProp\u001b[39;00m \u001b[38;5;28;01mas\u001b[39;00m \u001b[38;5;21;01mCP\u001b[39;00m\n\u001b[0;32m      3\u001b[0m \u001b[38;5;28;01mimport\u001b[39;00m \u001b[38;5;21;01mmatplotlib\u001b[39;00m\u001b[38;5;21;01m.\u001b[39;00m\u001b[38;5;21;01mpyplot\u001b[39;00m \u001b[38;5;28;01mas\u001b[39;00m \u001b[38;5;21;01mplt\u001b[39;00m\n\u001b[0;32m      5\u001b[0m fig, ax \u001b[38;5;241m=\u001b[39m plt\u001b[38;5;241m.\u001b[39msubplots(\u001b[38;5;241m1\u001b[39m,\u001b[38;5;241m1\u001b[39m,figsize\u001b[38;5;241m=\u001b[39m(\u001b[38;5;241m10\u001b[39m, \u001b[38;5;241m8\u001b[39m))\n",
      "\u001b[1;31mModuleNotFoundError\u001b[0m: No module named 'CoolProp'"
     ]
    }
   ],
   "source": [
    "import numpy as np\n",
    "import CoolProp.CoolProp as CP\n",
    "import matplotlib.pyplot as plt\n",
    "\n",
    "fig, ax = plt.subplots(1,1,figsize=(10, 8))\n",
    "Tdbvec = np.linspace(-30, 55)+273.15\n",
    "\n",
    "# Lines of constant relative humidity\n",
    "for RH in np.arange(0.1, 1, 0.1):\n",
    "    W = CP.HAPropsSI(\"W\",\"R\",RH,\"P\",101325,\"T\",Tdbvec)\n",
    "    plt.plot(Tdbvec-273.15, W, color='k', lw = 0.5)\n",
    "\n",
    "# Saturation curve\n",
    "W = CP.HAPropsSI(\"W\",\"R\",1,\"P\",101325,\"T\",Tdbvec)\n",
    "plt.plot(Tdbvec-273.15, W, color='k', lw=1.5)\n",
    "\n",
    "# Lines of constant Vda\n",
    "for Vda in np.arange(0.69, 0.961, 0.01):\n",
    "    R = np.linspace(0,1)\n",
    "    W = CP.HAPropsSI(\"W\",\"R\",R,\"P\",101325,\"Vda\",Vda)\n",
    "    Tdb = CP.HAPropsSI(\"Tdb\",\"R\",R,\"P\",101325,\"Vda\",Vda)\n",
    "    plt.plot(Tdb-273.15, W, color='b', lw=1.5 if abs(Vda % 0.05) < 0.001 else 0.5)\n",
    "\n",
    "# Lines of constant wetbulb\n",
    "for Twb_C in np.arange(-16, 33, 2):\n",
    "    if Twb_C == 0:\n",
    "        continue\n",
    "    R = np.linspace(0.0, 1)\n",
    "    print(Twb_C)\n",
    "    Tdb = CP.HAPropsSI(\"Tdb\",\"R\",R,\"P\",101325,\"Twb\",Twb_C+273.15)\n",
    "    W = CP.HAPropsSI(\"W\",\"R\",R,\"P\",101325,\"Tdb\",Tdb)\n",
    "    plt.plot(Tdb-273.15, W, color='r', lw=1.5 if abs(Twb_C % 10) < 0.001 else 0.5)\n",
    "\n",
    "plt.xlabel(r'Dry bulb temperature $T_{\\rm db}$ ($^{\\circ}$ C)')\n",
    "plt.ylabel(r'Humidity Ratio $W$ (kg/kg)')\n",
    "plt.ylim(0, 0.030)\n",
    "plt.xlim(-30, 55)\n",
    "# plt.show()"
   ]
  },
  {
   "cell_type": "code",
   "execution_count": 4,
   "id": "ff30cf45",
   "metadata": {},
   "outputs": [
    {
     "ename": "SyntaxError",
     "evalue": "':' expected after dictionary key (264503162.py, line 2)",
     "output_type": "error",
     "traceback": [
      "\u001b[1;36m  Cell \u001b[1;32mIn[4], line 2\u001b[1;36m\u001b[0m\n\u001b[1;33m    author = {Bell, Ian H. and Wronski, Jorrit and Quoilin, Sylvain and Lemort, Vincent}:,\u001b[0m\n\u001b[1;37m         ^\u001b[0m\n\u001b[1;31mSyntaxError\u001b[0m\u001b[1;31m:\u001b[0m ':' expected after dictionary key\n"
     ]
    }
   ],
   "source": [
    "@article{doi:10.1021/ie4033999,\n",
    "    author = {Bell, Ian H. and Wronski, Jorrit and Quoilin, Sylvain and Lemort, Vincent},\n",
    "    title = {Pure and Pseudo-pure Fluid Thermophysical Property Evaluation and\n",
    "             the Open-Source Thermophysical Property Library CoolProp},\n",
    "    journal = {Industrial \\& Engineering Chemistry Research},\n",
    "    volume = {53},\n",
    "    number = {6},\n",
    "    pages = {2498--2508},\n",
    "    year = {2014},\n",
    "    doi = {10.1021/ie4033999},\n",
    "    URL = {http://pubs.acs.org/doi/abs/10.1021/ie4033999},\n",
    "    eprint = {http://pubs.acs.org/doi/pdf/10.1021/ie4033999}\n",
    "    }"
   ]
  },
  {
   "cell_type": "code",
   "execution_count": 6,
   "id": "1a29a074",
   "metadata": {},
   "outputs": [
    {
     "data": {
      "image/png": "[encoded data removed]",
      "text/plain": [
       "<Figure size 1000x600 with 1 Axes>"
      ]
     },
     "metadata": {},
     "output_type": "display_data"
    }
   ],
   "source": [
    "import numpy as np\n",
    "import matplotlib.pyplot as plt\n",
    "\n",
    "def heat_conduction_1d(length, time, thermal_conductivity, initial_temperature, boundary_temperature):\n",
    "    \"\"\"\n",
    "    Solve 1D heat conduction problem using explicit finite difference method.\n",
    "\n",
    "    Parameters:\n",
    "        length (float): Length of the material in meters.\n",
    "        time (float): Total simulation time in seconds.\n",
    "        thermal_conductivity (float): Thermal conductivity of the material.\n",
    "        initial_temperature (float): Initial temperature of the material.\n",
    "        boundary_temperature (float): Temperature at both boundaries.\n",
    "\n",
    "    Returns:\n",
    "        time_values (numpy.ndarray): Time values.\n",
    "        temperature_profile (numpy.ndarray): Temperature profile at different time steps.\n",
    "    \"\"\"\n",
    "    # Spatial and temporal step sizes\n",
    "    dx = 0.01  # Spatial step size\n",
    "    dt = 0.01  # Time step size\n",
    "\n",
    "    # Number of spatial points and time steps\n",
    "    num_points = int(length / dx) + 1\n",
    "    num_steps = int(time / dt) + 1\n",
    "\n",
    "    # Calculate the thermal diffusivity\n",
    "    alpha = thermal_conductivity * dt / (dx ** 2)\n",
    "\n",
    "    # Initialize temperature profile array\n",
    "    temperature_profile = np.zeros((num_steps, num_points))\n",
    "    time_values = np.linspace(0, time, num_steps)\n",
    "\n",
    "    # Initial condition\n",
    "    temperature_profile[0, :] = initial_temperature\n",
    "\n",
    "    # Boundary conditions\n",
    "    temperature_profile[:, 0] = boundary_temperature\n",
    "    temperature_profile[:, -1] = boundary_temperature\n",
    "\n",
    "    # Explicit finite difference method\n",
    "    for i in range(1, num_steps):\n",
    "        for j in range(1, num_points - 1):\n",
    "            # Update temperature using the finite difference equation\n",
    "            temperature_profile[i, j] = temperature_profile[i - 1, j] + \\\n",
    "                alpha * (temperature_profile[i - 1, j - 1] - 2 * temperature_profile[i - 1, j] +\n",
    "                         temperature_profile[i - 1, j + 1])\n",
    "\n",
    "    return time_values, temperature_profile\n",
    "\n",
    "def plot_temperature_evolution(time_values, temperature_profile):\n",
    "    \"\"\"\n",
    "    Plot the evolution of temperature over time.\n",
    "\n",
    "    Parameters:\n",
    "        time_values (numpy.ndarray): Time values.\n",
    "        temperature_profile (numpy.ndarray): Temperature profile at different time steps.\n",
    "    \"\"\"\n",
    "    plt.figure(figsize=(10, 6))\n",
    "    plt.title('1D Heat Conduction')\n",
    "    plt.xlabel('Position (m)')\n",
    "    plt.ylabel('Temperature (C)')\n",
    "    \n",
    "    # Plot temperature profiles at different time steps\n",
    "    for i in range(0, len(time_values), len(time_values)//10):\n",
    "        plt.plot(np.linspace(0, length, len(temperature_profile[i, :])),\n",
    "                 temperature_profile[i, :], label=f'Time = {time_values[i]:.2f}s')\n",
    "    \n",
    "    plt.legend()\n",
    "    plt.show()\n",
    "\n",
    "# Example usage\n",
    "length = 0.1  # Length of the material (meters)\n",
    "time = 1.0    # Total simulation time (seconds)\n",
    "thermal_conductivity = 1.0  # Thermal conductivity (W/(m*K))\n",
    "initial_temperature = 100.0  # Initial temperature (Celsius)\n",
    "boundary_temperature = 0.0   # Temperature at boundaries (Celsius)\n",
    "\n",
    "time_values, temperature_profile = heat_conduction_1d(length, time, thermal_conductivity,\n",
    "                                                     initial_temperature, boundary_temperature)\n",
    "\n",
    "plot_temperature_evolution(time_values, temperature_profile)"
   ]
  },
  {
   "cell_type": "code",
   "execution_count": 1,
   "id": "4264bce7",
   "metadata": {},
   "outputs": [
    {
     "ename": "ModuleNotFoundError",
     "evalue": "No module named 'pint'",
     "output_type": "error",
     "traceback": [
      "\u001b[1;31m---------------------------------------------------------------------------\u001b[0m",
      "\u001b[1;31mModuleNotFoundError\u001b[0m                       Traceback (most recent call last)",
      "Cell \u001b[1;32mIn[1], line 5\u001b[0m\n\u001b[0;32m      2\u001b[0m \u001b[38;5;28;01mfrom\u001b[39;00m \u001b[38;5;21;01mscipy\u001b[39;00m\u001b[38;5;21;01m.\u001b[39;00m\u001b[38;5;21;01moptimize\u001b[39;00m \u001b[38;5;28;01mimport\u001b[39;00m curve_fit\n\u001b[0;32m      3\u001b[0m \u001b[38;5;28;01mfrom\u001b[39;00m \u001b[38;5;21;01mscipy\u001b[39;00m\u001b[38;5;21;01m.\u001b[39;00m\u001b[38;5;21;01mintegrate\u001b[39;00m \u001b[38;5;28;01mimport\u001b[39;00m quad\n\u001b[1;32m----> 5\u001b[0m \u001b[38;5;28;01mfrom\u001b[39;00m \u001b[38;5;21;01mpint\u001b[39;00m \u001b[38;5;28;01mimport\u001b[39;00m UnitRegistry\n\u001b[0;32m      6\u001b[0m ureg \u001b[38;5;241m=\u001b[39m UnitRegistry()\n\u001b[0;32m      7\u001b[0m Q_ \u001b[38;5;241m=\u001b[39m ureg\u001b[38;5;241m.\u001b[39mQuantity\n",
      "\u001b[1;31mModuleNotFoundError\u001b[0m: No module named 'pint'"
     ]
    }
   ],
   "source": [
    "import numpy as np\n",
    "from scipy.optimize import curve_fit\n",
    "from scipy.integrate import quad\n",
    "\n",
    "from pint import UnitRegistry\n",
    "ureg = UnitRegistry()\n",
    "Q_ = ureg.Quantity\n",
    "\n",
    "pressure = Q_([65.1, 80.5, 93.2, 110, 134, 161, 190], 'psi')\n",
    "volume = Q_([80.0, 67.2, 60.1, 52.5, 44.8, 37.6, 32.5], 'in^3')\n",
    "\n",
    "# convert to SI units\n",
    "pressure.ito('Pa')\n",
    "volume.ito('m^3')\n",
    "\n",
    "def fit(V, n, c):\n",
    "    '''Evaluate P = c * V**(-n). \n",
    "    \n",
    "    n and c will be found by the curve_fit functino.\n",
    "    '''\n",
    "    return c * np.power(V, -n)\n",
    "\n",
    "# this function will automatically fit the unknown constants\n",
    "params, cov = curve_fit(fit, volume.magnitude, pressure.magnitude)\n",
    "\n",
    "print(f'Parameters: n={params[0]: 5.3f}, c={params[1]: 5.3f}')"
   ]
  },
  {
   "cell_type": "code",
   "execution_count": 2,
   "id": "3980a439",
   "metadata": {},
   "outputs": [
    {
     "ename": "ModuleNotFoundError",
     "evalue": "No module named 'cantera'",
     "output_type": "error",
     "traceback": [
      "\u001b[1;31m---------------------------------------------------------------------------\u001b[0m",
      "\u001b[1;31mModuleNotFoundError\u001b[0m                       Traceback (most recent call last)",
      "Cell \u001b[1;32mIn[2], line 7\u001b[0m\n\u001b[0;32m      4\u001b[0m \u001b[38;5;28;01mimport\u001b[39;00m \u001b[38;5;21;01mnumpy\u001b[39;00m \u001b[38;5;28;01mas\u001b[39;00m \u001b[38;5;21;01mnp\u001b[39;00m\n\u001b[0;32m      6\u001b[0m \u001b[38;5;66;03m# Cantera will handle thermodynamic properties\u001b[39;00m\n\u001b[1;32m----> 7\u001b[0m \u001b[38;5;28;01mimport\u001b[39;00m \u001b[38;5;21;01mcantera\u001b[39;00m \u001b[38;5;28;01mas\u001b[39;00m \u001b[38;5;21;01mct\u001b[39;00m\n\u001b[0;32m      9\u001b[0m \u001b[38;5;66;03m# Pint gives us some helpful unit conversion\u001b[39;00m\n\u001b[0;32m     10\u001b[0m \u001b[38;5;28;01mfrom\u001b[39;00m \u001b[38;5;21;01mpint\u001b[39;00m \u001b[38;5;28;01mimport\u001b[39;00m UnitRegistry\n",
      "\u001b[1;31mModuleNotFoundError\u001b[0m: No module named 'cantera'"
     ]
    }
   ],
   "source": [
    "# load necessary modules\n",
    "\n",
    "# Numpy adds some useful numerical types and functions\n",
    "import numpy as np\n",
    "\n",
    "# Cantera will handle thermodynamic properties\n",
    "import cantera as ct\n",
    "\n",
    "# Pint gives us some helpful unit conversion\n",
    "from pint import UnitRegistry\n",
    "ureg = UnitRegistry()\n",
    "Q_ = ureg.Quantity"
   ]
  },
  {
   "cell_type": "code",
   "execution_count": 3,
   "id": "8bf23f51",
   "metadata": {},
   "outputs": [
    {
     "ename": "NameError",
     "evalue": "name 'Q_' is not defined",
     "output_type": "error",
     "traceback": [
      "\u001b[1;31m---------------------------------------------------------------------------\u001b[0m",
      "\u001b[1;31mNameError\u001b[0m                                 Traceback (most recent call last)",
      "Cell \u001b[1;32mIn[3], line 1\u001b[0m\n\u001b[1;32m----> 1\u001b[0m volume \u001b[38;5;241m=\u001b[39m Q_(\u001b[38;5;241m2\u001b[39m, \u001b[38;5;124m'\u001b[39m\u001b[38;5;124mliter\u001b[39m\u001b[38;5;124m'\u001b[39m)\n\u001b[0;32m      2\u001b[0m temp_charge \u001b[38;5;241m=\u001b[39m Q_(\u001b[38;5;241m20\u001b[39m, \u001b[38;5;124m'\u001b[39m\u001b[38;5;124mdegC\u001b[39m\u001b[38;5;124m'\u001b[39m)\n\u001b[0;32m      3\u001b[0m quality_charge \u001b[38;5;241m=\u001b[39m \u001b[38;5;241m0.05\u001b[39m\n",
      "\u001b[1;31mNameError\u001b[0m: name 'Q_' is not defined"
     ]
    }
   ],
   "source": [
    "volume = Q_(2, 'liter')\n",
    "temp_charge = Q_(20, 'degC')\n",
    "quality_charge = 0.05\n",
    "\n",
    "initial = ct.Hfc134a()\n",
    "initial.TQ = temp_charge.to('K').magnitude, quality_charge"
   ]
  },
  {
   "cell_type": "code",
   "execution_count": 4,
   "id": "42a73620",
   "metadata": {},
   "outputs": [
    {
     "ename": "NameError",
     "evalue": "name 'ct' is not defined",
     "output_type": "error",
     "traceback": [
      "\u001b[1;31m---------------------------------------------------------------------------\u001b[0m",
      "\u001b[1;31mNameError\u001b[0m                                 Traceback (most recent call last)",
      "Cell \u001b[1;32mIn[4], line 1\u001b[0m\n\u001b[1;32m----> 1\u001b[0m f \u001b[38;5;241m=\u001b[39m ct\u001b[38;5;241m.\u001b[39mWater()\n\u001b[0;32m      3\u001b[0m \u001b[38;5;66;03m# Array of temperatures from fluid minimum temperature to critical temperature\u001b[39;00m\n\u001b[0;32m      4\u001b[0m temps \u001b[38;5;241m=\u001b[39m np\u001b[38;5;241m.\u001b[39marange(np\u001b[38;5;241m.\u001b[39mceil(f\u001b[38;5;241m.\u001b[39mmin_temp) \u001b[38;5;241m+\u001b[39m \u001b[38;5;241m0.15\u001b[39m, f\u001b[38;5;241m.\u001b[39mcritical_temperature, \u001b[38;5;241m1.0\u001b[39m)\n",
      "\u001b[1;31mNameError\u001b[0m: name 'ct' is not defined"
     ]
    }
   ],
   "source": [
    "f = ct.Water()\n",
    "\n",
    "# Array of temperatures from fluid minimum temperature to critical temperature\n",
    "temps = np.arange(np.ceil(f.min_temp) + 0.15, f.critical_temperature, 1.0)\n",
    "\n",
    "def get_sat_entropy_fluid(T):\n",
    "    '''Gets entropy for temperature along saturated liquid line'''\n",
    "    f = ct.Water()\n",
    "    f.TQ = T, 0.0\n",
    "    return f.s\n",
    "def get_sat_entropy_gas(T):\n",
    "    '''Gets entropy for temperature along saturated vapor line'''\n",
    "    f = ct.Water()\n",
    "    f.TQ = T, 1.0\n",
    "    return f.s\n",
    "\n",
    "# calculate entropy values associated with temperatures along\n",
    "# saturation lines\n",
    "entropies_f = np.array([get_sat_entropy_fluid(T) for T in temps])\n",
    "entropies_g = np.array([get_sat_entropy_gas(T) for T in temps])\n",
    "\n",
    "# critical point\n",
    "f.TP = f.critical_temperature, f.critical_pressure\n",
    "\n",
    "fig, ax = plt.subplots(figsize=(5, 3))\n",
    "\n",
    "# Plot the saturated liquid line, critical point,\n",
    "# and saturated vapor line\n",
    "ax.plot(entropies_f, temps)\n",
    "ax.plot(entropies_g, temps)\n",
    "ax.plot(f.s, f.T, 'o')\n",
    "plt.xlabel('Specific entropy (J/kg⋅K)')\n",
    "plt.ylabel('Temperature (K)')\n",
    "\n",
    "# Plot the initial and final states, and label them\n",
    "ax.plot(state_initial.s, state_initial.T, 's')\n",
    "ax.annotate('(1)', xy=(state_initial.s, state_initial.T),\n",
    "            xytext=(0, -20), textcoords='offset points',\n",
    "            ha='right', va='bottom'\n",
    "            )\n",
    "\n",
    "ax.plot(state_final.s, state_final.T, 's')\n",
    "ax.annotate('(2)', xy=(state_final.s, state_final.T),\n",
    "            xytext=(20, 0), textcoords='offset points',\n",
    "            ha='right', va='bottom'\n",
    "            )\n",
    "\n",
    "# show process line of constant density\n",
    "temps = np.arange(state_initial.T, state_final.T, 1.0)\n",
    "def get_entrophy(T, density):\n",
    "    f = ct.Water()\n",
    "    f.TD = T, density\n",
    "    return f.s\n",
    "entropies = np.array([get_entrophy(T, state_initial.density) for T in temps])\n",
    "ax.plot(entropies, temps, '--')\n",
    "\n",
    "plt.grid(True)\n",
    "fig.tight_layout()\n",
    "plt.show()"
   ]
  },
  {
   "cell_type": "code",
   "execution_count": 5,
   "id": "8210c773",
   "metadata": {},
   "outputs": [
    {
     "ename": "ModuleNotFoundError",
     "evalue": "No module named 'cantera'",
     "output_type": "error",
     "traceback": [
      "\u001b[1;31m---------------------------------------------------------------------------\u001b[0m",
      "\u001b[1;31mModuleNotFoundError\u001b[0m                       Traceback (most recent call last)",
      "Cell \u001b[1;32mIn[5], line 2\u001b[0m\n\u001b[0;32m      1\u001b[0m \u001b[38;5;28;01mimport\u001b[39;00m \u001b[38;5;21;01mnumpy\u001b[39;00m \u001b[38;5;28;01mas\u001b[39;00m \u001b[38;5;21;01mnp\u001b[39;00m\n\u001b[1;32m----> 2\u001b[0m \u001b[38;5;28;01mimport\u001b[39;00m \u001b[38;5;21;01mcantera\u001b[39;00m \u001b[38;5;28;01mas\u001b[39;00m \u001b[38;5;21;01mct\u001b[39;00m\n\u001b[0;32m      3\u001b[0m \u001b[38;5;28;01mfrom\u001b[39;00m \u001b[38;5;21;01mscipy\u001b[39;00m\u001b[38;5;21;01m.\u001b[39;00m\u001b[38;5;21;01moptimize\u001b[39;00m \u001b[38;5;28;01mimport\u001b[39;00m root_scalar\n\u001b[0;32m      5\u001b[0m \u001b[38;5;28;01mfrom\u001b[39;00m \u001b[38;5;21;01mpint\u001b[39;00m \u001b[38;5;28;01mimport\u001b[39;00m UnitRegistry\n",
      "\u001b[1;31mModuleNotFoundError\u001b[0m: No module named 'cantera'"
     ]
    }
   ],
   "source": [
    "import numpy as np\n",
    "import cantera as ct\n",
    "from scipy.optimize import root_scalar\n",
    "\n",
    "from pint import UnitRegistry\n",
    "ureg = UnitRegistry()\n",
    "Q_ = ureg.Quantity"
   ]
  },
  {
   "cell_type": "code",
   "execution_count": 6,
   "id": "609f3686",
   "metadata": {},
   "outputs": [
    {
     "data": {
      "text/latex": [
       "$\\displaystyle \\frac{d}{d x} x^{2} = 2 x$"
      ],
      "text/plain": [
       "d ⎛ 2⎞      \n",
       "──⎝x ⎠ = 2⋅x\n",
       "dx          "
      ]
     },
     "metadata": {},
     "output_type": "display_data"
    }
   ],
   "source": [
    "import sympy\n",
    "sympy.init_printing(use_latex='mathjax')\n",
    "\n",
    "x = sympy.symbols('x', real=True)\n",
    "\n",
    "f = x**2\n",
    "\n",
    "# take derivative of f with respect to x\n",
    "dfdx = sympy.diff(f, x)\n",
    "\n",
    "# this complicated expression is only necessary for printing.\n",
    "# It creates an equation object, that sets the unevaluated \n",
    "# derivative of f equal to the calculated derivative.\n",
    "display(sympy.Eq(sympy.Derivative(f), dfdx))"
   ]
  },
  {
   "cell_type": "code",
   "execution_count": 7,
   "id": "f0d3826a",
   "metadata": {},
   "outputs": [
    {
     "ename": "NameError",
     "evalue": "name 'plt' is not defined",
     "output_type": "error",
     "traceback": [
      "\u001b[1;31m---------------------------------------------------------------------------\u001b[0m",
      "\u001b[1;31mNameError\u001b[0m                                 Traceback (most recent call last)",
      "Cell \u001b[1;32mIn[7], line 5\u001b[0m\n\u001b[0;32m      1\u001b[0m calc_derivative \u001b[38;5;241m=\u001b[39m sympy\u001b[38;5;241m.\u001b[39mlambdify(x, dfdx, \u001b[38;5;124m'\u001b[39m\u001b[38;5;124mnumpy\u001b[39m\u001b[38;5;124m'\u001b[39m)\n\u001b[0;32m      3\u001b[0m x_vals \u001b[38;5;241m=\u001b[39m np\u001b[38;5;241m.\u001b[39mlinspace(\u001b[38;5;241m0\u001b[39m, \u001b[38;5;241m1\u001b[39m, \u001b[38;5;241m10\u001b[39m)\n\u001b[1;32m----> 5\u001b[0m plt\u001b[38;5;241m.\u001b[39mplot(x_vals, \u001b[38;5;241m2\u001b[39m\u001b[38;5;241m*\u001b[39mx_vals, label\u001b[38;5;241m=\u001b[39m\u001b[38;5;124m'\u001b[39m\u001b[38;5;124mExact derivative\u001b[39m\u001b[38;5;124m'\u001b[39m)\n\u001b[0;32m      6\u001b[0m plt\u001b[38;5;241m.\u001b[39mplot(x_vals, calc_derivative(x_vals), \u001b[38;5;124m'\u001b[39m\u001b[38;5;124mo\u001b[39m\u001b[38;5;124m'\u001b[39m, label\u001b[38;5;241m=\u001b[39m\u001b[38;5;124m'\u001b[39m\u001b[38;5;124mSymPy derivative\u001b[39m\u001b[38;5;124m'\u001b[39m)\n\u001b[0;32m      8\u001b[0m plt\u001b[38;5;241m.\u001b[39mxlabel(\u001b[38;5;124m'\u001b[39m\u001b[38;5;124mx\u001b[39m\u001b[38;5;124m'\u001b[39m)\n",
      "\u001b[1;31mNameError\u001b[0m: name 'plt' is not defined"
     ]
    }
   ],
   "source": [
    "calc_derivative = sympy.lambdify(x, dfdx, 'numpy')\n",
    "\n",
    "x_vals = np.linspace(0, 1, 10)\n",
    "\n",
    "plt.plot(x_vals, 2*x_vals, label='Exact derivative')\n",
    "plt.plot(x_vals, calc_derivative(x_vals), 'o', label='SymPy derivative')\n",
    "\n",
    "plt.xlabel('x')\n",
    "plt.ylabel('df/dx')\n",
    "plt.grid(True)\n",
    "plt.legend()\n",
    "plt.show()"
   ]
  },
  {
   "cell_type": "code",
   "execution_count": 8,
   "id": "5b9d0945",
   "metadata": {},
   "outputs": [
    {
     "ename": "ValueError",
     "evalue": "x and y must have same first dimension, but have shapes (10,) and (1,)",
     "output_type": "error",
     "traceback": [
      "\u001b[1;31m---------------------------------------------------------------------------\u001b[0m",
      "\u001b[1;31mValueError\u001b[0m                                Traceback (most recent call last)",
      "Cell \u001b[1;32mIn[8], line 24\u001b[0m\n\u001b[0;32m     21\u001b[0m plt\u001b[38;5;241m.\u001b[39mplot(x_vals, \u001b[38;5;241m2\u001b[39m\u001b[38;5;241m*\u001b[39mx_vals, label\u001b[38;5;241m=\u001b[39m\u001b[38;5;124m'\u001b[39m\u001b[38;5;124mExact derivative\u001b[39m\u001b[38;5;124m'\u001b[39m)\n\u001b[0;32m     23\u001b[0m \u001b[38;5;66;03m# Plot the SymPy derivative\u001b[39;00m\n\u001b[1;32m---> 24\u001b[0m plt\u001b[38;5;241m.\u001b[39mplot(x_vals, calc_derivative(x_vals), \u001b[38;5;124m'\u001b[39m\u001b[38;5;124mo\u001b[39m\u001b[38;5;124m'\u001b[39m, label\u001b[38;5;241m=\u001b[39m\u001b[38;5;124m'\u001b[39m\u001b[38;5;124mSymPy derivative\u001b[39m\u001b[38;5;124m'\u001b[39m)\n\u001b[0;32m     26\u001b[0m \u001b[38;5;66;03m# Labeling and legend\u001b[39;00m\n\u001b[0;32m     27\u001b[0m plt\u001b[38;5;241m.\u001b[39mxlabel(\u001b[38;5;124m'\u001b[39m\u001b[38;5;124mx\u001b[39m\u001b[38;5;124m'\u001b[39m)\n",
      "File \u001b[1;32m~\\anaconda3\\Lib\\site-packages\\matplotlib\\pyplot.py:2812\u001b[0m, in \u001b[0;36mplot\u001b[1;34m(scalex, scaley, data, *args, **kwargs)\u001b[0m\n\u001b[0;32m   2810\u001b[0m \u001b[38;5;129m@_copy_docstring_and_deprecators\u001b[39m(Axes\u001b[38;5;241m.\u001b[39mplot)\n\u001b[0;32m   2811\u001b[0m \u001b[38;5;28;01mdef\u001b[39;00m \u001b[38;5;21mplot\u001b[39m(\u001b[38;5;241m*\u001b[39margs, scalex\u001b[38;5;241m=\u001b[39m\u001b[38;5;28;01mTrue\u001b[39;00m, scaley\u001b[38;5;241m=\u001b[39m\u001b[38;5;28;01mTrue\u001b[39;00m, data\u001b[38;5;241m=\u001b[39m\u001b[38;5;28;01mNone\u001b[39;00m, \u001b[38;5;241m*\u001b[39m\u001b[38;5;241m*\u001b[39mkwargs):\n\u001b[1;32m-> 2812\u001b[0m     \u001b[38;5;28;01mreturn\u001b[39;00m gca()\u001b[38;5;241m.\u001b[39mplot(\n\u001b[0;32m   2813\u001b[0m         \u001b[38;5;241m*\u001b[39margs, scalex\u001b[38;5;241m=\u001b[39mscalex, scaley\u001b[38;5;241m=\u001b[39mscaley,\n\u001b[0;32m   2814\u001b[0m         \u001b[38;5;241m*\u001b[39m\u001b[38;5;241m*\u001b[39m({\u001b[38;5;124m\"\u001b[39m\u001b[38;5;124mdata\u001b[39m\u001b[38;5;124m\"\u001b[39m: data} \u001b[38;5;28;01mif\u001b[39;00m data \u001b[38;5;129;01mis\u001b[39;00m \u001b[38;5;129;01mnot\u001b[39;00m \u001b[38;5;28;01mNone\u001b[39;00m \u001b[38;5;28;01melse\u001b[39;00m {}), \u001b[38;5;241m*\u001b[39m\u001b[38;5;241m*\u001b[39mkwargs)\n",
      "File \u001b[1;32m~\\anaconda3\\Lib\\site-packages\\matplotlib\\axes\\_axes.py:1688\u001b[0m, in \u001b[0;36mAxes.plot\u001b[1;34m(self, scalex, scaley, data, *args, **kwargs)\u001b[0m\n\u001b[0;32m   1445\u001b[0m \u001b[38;5;250m\u001b[39m\u001b[38;5;124;03m\"\"\"\u001b[39;00m\n\u001b[0;32m   1446\u001b[0m \u001b[38;5;124;03mPlot y versus x as lines and/or markers.\u001b[39;00m\n\u001b[0;32m   1447\u001b[0m \n\u001b[1;32m   (...)\u001b[0m\n\u001b[0;32m   1685\u001b[0m \u001b[38;5;124;03m(``'green'``) or hex strings (``'#008000'``).\u001b[39;00m\n\u001b[0;32m   1686\u001b[0m \u001b[38;5;124;03m\"\"\"\u001b[39;00m\n\u001b[0;32m   1687\u001b[0m kwargs \u001b[38;5;241m=\u001b[39m cbook\u001b[38;5;241m.\u001b[39mnormalize_kwargs(kwargs, mlines\u001b[38;5;241m.\u001b[39mLine2D)\n\u001b[1;32m-> 1688\u001b[0m lines \u001b[38;5;241m=\u001b[39m [\u001b[38;5;241m*\u001b[39m\u001b[38;5;28mself\u001b[39m\u001b[38;5;241m.\u001b[39m_get_lines(\u001b[38;5;241m*\u001b[39margs, data\u001b[38;5;241m=\u001b[39mdata, \u001b[38;5;241m*\u001b[39m\u001b[38;5;241m*\u001b[39mkwargs)]\n\u001b[0;32m   1689\u001b[0m \u001b[38;5;28;01mfor\u001b[39;00m line \u001b[38;5;129;01min\u001b[39;00m lines:\n\u001b[0;32m   1690\u001b[0m     \u001b[38;5;28mself\u001b[39m\u001b[38;5;241m.\u001b[39madd_line(line)\n",
      "File \u001b[1;32m~\\anaconda3\\Lib\\site-packages\\matplotlib\\axes\\_base.py:311\u001b[0m, in \u001b[0;36m_process_plot_var_args.__call__\u001b[1;34m(self, data, *args, **kwargs)\u001b[0m\n\u001b[0;32m    309\u001b[0m     this \u001b[38;5;241m+\u001b[39m\u001b[38;5;241m=\u001b[39m args[\u001b[38;5;241m0\u001b[39m],\n\u001b[0;32m    310\u001b[0m     args \u001b[38;5;241m=\u001b[39m args[\u001b[38;5;241m1\u001b[39m:]\n\u001b[1;32m--> 311\u001b[0m \u001b[38;5;28;01myield from\u001b[39;00m \u001b[38;5;28mself\u001b[39m\u001b[38;5;241m.\u001b[39m_plot_args(\n\u001b[0;32m    312\u001b[0m     this, kwargs, ambiguous_fmt_datakey\u001b[38;5;241m=\u001b[39mambiguous_fmt_datakey)\n",
      "File \u001b[1;32m~\\anaconda3\\Lib\\site-packages\\matplotlib\\axes\\_base.py:504\u001b[0m, in \u001b[0;36m_process_plot_var_args._plot_args\u001b[1;34m(self, tup, kwargs, return_kwargs, ambiguous_fmt_datakey)\u001b[0m\n\u001b[0;32m    501\u001b[0m     \u001b[38;5;28mself\u001b[39m\u001b[38;5;241m.\u001b[39maxes\u001b[38;5;241m.\u001b[39myaxis\u001b[38;5;241m.\u001b[39mupdate_units(y)\n\u001b[0;32m    503\u001b[0m \u001b[38;5;28;01mif\u001b[39;00m x\u001b[38;5;241m.\u001b[39mshape[\u001b[38;5;241m0\u001b[39m] \u001b[38;5;241m!=\u001b[39m y\u001b[38;5;241m.\u001b[39mshape[\u001b[38;5;241m0\u001b[39m]:\n\u001b[1;32m--> 504\u001b[0m     \u001b[38;5;28;01mraise\u001b[39;00m \u001b[38;5;167;01mValueError\u001b[39;00m(\u001b[38;5;124mf\u001b[39m\u001b[38;5;124m\"\u001b[39m\u001b[38;5;124mx and y must have same first dimension, but \u001b[39m\u001b[38;5;124m\"\u001b[39m\n\u001b[0;32m    505\u001b[0m                      \u001b[38;5;124mf\u001b[39m\u001b[38;5;124m\"\u001b[39m\u001b[38;5;124mhave shapes \u001b[39m\u001b[38;5;132;01m{\u001b[39;00mx\u001b[38;5;241m.\u001b[39mshape\u001b[38;5;132;01m}\u001b[39;00m\u001b[38;5;124m and \u001b[39m\u001b[38;5;132;01m{\u001b[39;00my\u001b[38;5;241m.\u001b[39mshape\u001b[38;5;132;01m}\u001b[39;00m\u001b[38;5;124m\"\u001b[39m)\n\u001b[0;32m    506\u001b[0m \u001b[38;5;28;01mif\u001b[39;00m x\u001b[38;5;241m.\u001b[39mndim \u001b[38;5;241m>\u001b[39m \u001b[38;5;241m2\u001b[39m \u001b[38;5;129;01mor\u001b[39;00m y\u001b[38;5;241m.\u001b[39mndim \u001b[38;5;241m>\u001b[39m \u001b[38;5;241m2\u001b[39m:\n\u001b[0;32m    507\u001b[0m     \u001b[38;5;28;01mraise\u001b[39;00m \u001b[38;5;167;01mValueError\u001b[39;00m(\u001b[38;5;124mf\u001b[39m\u001b[38;5;124m\"\u001b[39m\u001b[38;5;124mx and y can be no greater than 2D, but have \u001b[39m\u001b[38;5;124m\"\u001b[39m\n\u001b[0;32m    508\u001b[0m                      \u001b[38;5;124mf\u001b[39m\u001b[38;5;124m\"\u001b[39m\u001b[38;5;124mshapes \u001b[39m\u001b[38;5;132;01m{\u001b[39;00mx\u001b[38;5;241m.\u001b[39mshape\u001b[38;5;132;01m}\u001b[39;00m\u001b[38;5;124m and \u001b[39m\u001b[38;5;132;01m{\u001b[39;00my\u001b[38;5;241m.\u001b[39mshape\u001b[38;5;132;01m}\u001b[39;00m\u001b[38;5;124m\"\u001b[39m)\n",
      "\u001b[1;31mValueError\u001b[0m: x and y must have same first dimension, but have shapes (10,) and (1,)"
     ]
    },
    {
     "data": {
      "image/png": "[encoded data removed]",
      "text/plain": [
       "<Figure size 640x480 with 1 Axes>"
      ]
     },
     "metadata": {},
     "output_type": "display_data"
    }
   ],
   "source": [
    "import sympy\n",
    "import numpy as np\n",
    "import matplotlib.pyplot as plt\n",
    "\n",
    "# Define the symbol x\n",
    "x = sympy.symbols('x')\n",
    "\n",
    "# Define the function f(x) = x^2\n",
    "f_x = 2 * x\n",
    "\n",
    "# Calculate the exact derivative\n",
    "dfdx = sympy.diff(f_x, x)\n",
    "\n",
    "# Lambdify the derivative function for numerical evaluation\n",
    "calc_derivative = sympy.lambdify(x, dfdx, 'numpy')\n",
    "\n",
    "# Generate x values\n",
    "x_vals = np.linspace(0, 1, 10)\n",
    "\n",
    "# Plot the exact derivative\n",
    "plt.plot(x_vals, 2*x_vals, label='Exact derivative')\n",
    "\n",
    "# Plot the SymPy derivative\n",
    "plt.plot(x_vals, calc_derivative(x_vals), 'o', label='SymPy derivative')\n",
    "\n",
    "# Labeling and legend\n",
    "plt.xlabel('x')\n",
    "plt.ylabel('df/dx')\n",
    "plt.grid(True)\n",
    "plt.legend()\n",
    "plt.show()\n"
   ]
  },
  {
   "cell_type": "code",
   "execution_count": 9,
   "id": "f194661a",
   "metadata": {},
   "outputs": [
    {
     "name": "stdout",
     "output_type": "stream",
     "text": [
      "Root: x = 0.865\n",
      "Function evaluated at root: 1.1102230246251565e-16\n"
     ]
    }
   ],
   "source": [
    "import numpy as np\n",
    "from scipy import optimize\n",
    "\n",
    "def func(x):\n",
    "    return np.cos(x) - x**3\n",
    "\n",
    "sol = optimize.root_scalar(func, x0=1.0, x1=2.0)\n",
    "\n",
    "print(f'Root: x ={sol.root: .3f}')\n",
    "\n",
    "print(f'Function evaluated at root: {func(sol.root)}')"
   ]
  },
  {
   "cell_type": "code",
   "execution_count": 10,
   "id": "10be6d41",
   "metadata": {},
   "outputs": [
    {
     "ename": "ModuleNotFoundError",
     "evalue": "No module named 'pint'",
     "output_type": "error",
     "traceback": [
      "\u001b[1;31m---------------------------------------------------------------------------\u001b[0m",
      "\u001b[1;31mModuleNotFoundError\u001b[0m                       Traceback (most recent call last)",
      "Cell \u001b[1;32mIn[10], line 2\u001b[0m\n\u001b[0;32m      1\u001b[0m \u001b[38;5;28;01mimport\u001b[39;00m \u001b[38;5;21;01mnumpy\u001b[39;00m \u001b[38;5;28;01mas\u001b[39;00m \u001b[38;5;21;01mnp\u001b[39;00m\n\u001b[1;32m----> 2\u001b[0m \u001b[38;5;28;01mfrom\u001b[39;00m \u001b[38;5;21;01mpint\u001b[39;00m \u001b[38;5;28;01mimport\u001b[39;00m UnitRegistry\n\u001b[0;32m      3\u001b[0m ureg \u001b[38;5;241m=\u001b[39m UnitRegistry()\n\u001b[0;32m      4\u001b[0m Q_ \u001b[38;5;241m=\u001b[39m ureg\u001b[38;5;241m.\u001b[39mQuantity\n",
      "\u001b[1;31mModuleNotFoundError\u001b[0m: No module named 'pint'"
     ]
    }
   ],
   "source": [
    "import numpy as np\n",
    "from pint import UnitRegistry\n",
    "ureg = UnitRegistry()\n",
    "Q_ = ureg.Quantity\n",
    "\n",
    "pressure = Q_([65.1, 80.5, 93.2, 110, 134, 161, 190], 'psi')\n",
    "volume = Q_([80.0, 67.2, 60.1, 52.5, 44.8, 37.6, 32.5], 'in^3')\n",
    "\n",
    "# convert to SI units\n",
    "pressure.ito('Pa')\n",
    "volume.ito('m^3')\n",
    "\n",
    "work = -Q_(\n",
    "    np.trapz(pressure.magnitude, volume.magnitude), \n",
    "    pressure.units * volume.units\n",
    "    )\n",
    "print(f'Work done on fluid: {work.to(\"J\"): .2f}')"
   ]
  },
  {
   "cell_type": "code",
   "execution_count": 13,
   "id": "1615fe4b",
   "metadata": {},
   "outputs": [
    {
     "ename": "IndentationError",
     "evalue": "unindent does not match any outer indentation level (<tokenize>, line 18)",
     "output_type": "error",
     "traceback": [
      "\u001b[1;36m  File \u001b[1;32m<tokenize>:18\u001b[1;36m\u001b[0m\n\u001b[1;33m    phase of matter   supercritical\u001b[0m\n\u001b[1;37m    ^\u001b[0m\n\u001b[1;31mIndentationError\u001b[0m\u001b[1;31m:\u001b[0m unindent does not match any outer indentation level\n"
     ]
    }
   ],
   "source": [
    "# Create an object to hold the thermodynamic state of water\n",
    "f = ct.Water()\n",
    "\n",
    "# Fix the thermodynamic state by specifying temperature and \n",
    "# specific volume, in SI units (K and m^3/kg)\n",
    "f.TV = 673.15, 1e-2\n",
    "\n",
    "# Evaluating the object provides a summary of its properties at this state\n",
    "f()\n",
    "\n",
    "  water:\n",
    "\n",
    "       temperature   673.15 K\n",
    "          pressure   1.9936e+07 Pa\n",
    "           density   100 kg/m^3\n",
    "  mean mol. weight   18.016 kg/kmol\n",
    "    vapor fraction   1\n",
    "   phase of matter   supercritical\n",
    "\n",
    "                          1 kg             1 kmol     \n",
    "                     ---------------   ---------------\n",
    "          enthalpy        -1.315e+07       -2.3692e+08  J\n",
    "   internal energy        -1.335e+07       -2.4051e+08  J\n",
    "           entropy            9078.4        1.6356e+05  J/K\n",
    "    Gibbs function       -1.9261e+07       -3.4701e+08  J\n",
    " heat capacity c_p            6284.6        1.1322e+05  J/K\n",
    " heat capacity c_v              2694             48535  J/K"
   ]
  },
  {
   "cell_type": "code",
   "execution_count": 14,
   "id": "1de8b788",
   "metadata": {},
   "outputs": [
    {
     "ename": "ModuleNotFoundError",
     "evalue": "No module named 'pint'",
     "output_type": "error",
     "traceback": [
      "\u001b[1;31m---------------------------------------------------------------------------\u001b[0m",
      "\u001b[1;31mModuleNotFoundError\u001b[0m                       Traceback (most recent call last)",
      "Cell \u001b[1;32mIn[14], line 5\u001b[0m\n\u001b[0;32m      2\u001b[0m \u001b[38;5;28;01mfrom\u001b[39;00m \u001b[38;5;21;01mscipy\u001b[39;00m\u001b[38;5;21;01m.\u001b[39;00m\u001b[38;5;21;01moptimize\u001b[39;00m \u001b[38;5;28;01mimport\u001b[39;00m curve_fit\n\u001b[0;32m      3\u001b[0m \u001b[38;5;28;01mfrom\u001b[39;00m \u001b[38;5;21;01mscipy\u001b[39;00m\u001b[38;5;21;01m.\u001b[39;00m\u001b[38;5;21;01mintegrate\u001b[39;00m \u001b[38;5;28;01mimport\u001b[39;00m quad\n\u001b[1;32m----> 5\u001b[0m \u001b[38;5;28;01mfrom\u001b[39;00m \u001b[38;5;21;01mpint\u001b[39;00m \u001b[38;5;28;01mimport\u001b[39;00m UnitRegistry\n\u001b[0;32m      6\u001b[0m ureg \u001b[38;5;241m=\u001b[39m UnitRegistry()\n\u001b[0;32m      7\u001b[0m Q_ \u001b[38;5;241m=\u001b[39m ureg\u001b[38;5;241m.\u001b[39mQuantity\n",
      "\u001b[1;31mModuleNotFoundError\u001b[0m: No module named 'pint'"
     ]
    }
   ],
   "source": [
    "import numpy as np\n",
    "from scipy.optimize import curve_fit\n",
    "from scipy.integrate import quad\n",
    "\n",
    "from pint import UnitRegistry\n",
    "ureg = UnitRegistry()\n",
    "Q_ = ureg.Quantity\n",
    "\n",
    "pressure = Q_([65.1, 80.5, 93.2, 110, 134, 161, 190], 'psi')\n",
    "volume = Q_([80.0, 67.2, 60.1, 52.5, 44.8, 37.6, 32.5], 'in^3')\n",
    "\n",
    "# convert to SI units\n",
    "pressure.ito('Pa')\n",
    "volume.ito('m^3')\n",
    "\n",
    "def fit(V, n, c):\n",
    "    '''Evaluate P = c * V**(-n). \n",
    "    \n",
    "    n and c will be found by the curve_fit functino.\n",
    "    '''\n",
    "    return c * np.power(V, -n)\n",
    "\n",
    "# this function will automatically fit the unknown constants\n",
    "params, cov = curve_fit(fit, volume.magnitude, pressure.magnitude)\n",
    "\n",
    "print(f'Parameters: n={params[0]: 5.3f}, c={params[1]: 5.3f}')\n",
    "\n"
   ]
  },
  {
   "cell_type": "code",
   "execution_count": 15,
   "id": "be95ba7e",
   "metadata": {},
   "outputs": [],
   "source": [
    "def find_equilibrium_root(\n",
    "    x, temperature, pressure, components, \n",
    "    moles_initial, stoich_coefficients, gas\n",
    "    ):\n",
    "    '''System of equations for reaction coordinate and equilibrium composition.\n",
    "    '''\n",
    "    epsilon = x[0]\n",
    "    moles = np.array(x[1:])\n",
    "    \n",
    "    total_moles = np.sum(moles)\n",
    "    mole_fractions = moles / total_moles\n",
    "    \n",
    "    # get standard-state Gibbs free energy of each component\n",
    "    gibbs = np.zeros(len(components))\n",
    "    for idx, comp in enumerate(components):\n",
    "        gas.TPX = (\n",
    "            to_si(temperature), to_si(Q_(1, 'atm')),\n",
    "            f'{comp}:1.0'\n",
    "            )\n",
    "        gibbs[idx] = gas.gibbs_mole\n",
    "        \n",
    "    gibbs *= Q_('J/kmol')\n",
    "        \n",
    "    equil_constant = (\n",
    "        np.prod([y**nu for y, nu in \n",
    "                 zip(mole_fractions, stoich_coefficients)\n",
    "                ]) * \n",
    "        (pressure / Q_(1, 'atm'))**(np.sum(stoich_coefficients))\n",
    "        )\n",
    "    \n",
    "    return [\n",
    "        to_si(-np.sum(stoich_coefficients * gibbs) / \n",
    "            (Q_(ct.gas_constant, 'J/(kmol*K)') * temperature) - \n",
    "            np.log(equil_constant)\n",
    "            ),\n",
    "        moles[0] - (moles_initial[0] + stoich_coefficients[0] * epsilon),\n",
    "        moles[1] - (moles_initial[1] + stoich_coefficients[1] * epsilon),\n",
    "        moles[2] - (moles_initial[2] + stoich_coefficients[2] * epsilon),\n",
    "        ]"
   ]
  },
  {
   "cell_type": "code",
   "execution_count": 18,
   "id": "a1ebd960",
   "metadata": {},
   "outputs": [
    {
     "ename": "NameError",
     "evalue": "name 'pressures' is not defined",
     "output_type": "error",
     "traceback": [
      "\u001b[1;31m---------------------------------------------------------------------------\u001b[0m",
      "\u001b[1;31mNameError\u001b[0m                                 Traceback (most recent call last)",
      "Cell \u001b[1;32mIn[18], line 1\u001b[0m\n\u001b[1;32m----> 1\u001b[0m pressure \u001b[38;5;241m=\u001b[39m pressures[\u001b[38;5;241m0\u001b[39m]\n\u001b[0;32m      2\u001b[0m x0 \u001b[38;5;241m=\u001b[39m [\u001b[38;5;241m-\u001b[39m\u001b[38;5;241m0.5\u001b[39m, \u001b[38;5;241m0.5\u001b[39m, \u001b[38;5;241m0.5\u001b[39m, \u001b[38;5;241m0.5\u001b[39m]\n\u001b[0;32m      3\u001b[0m gas \u001b[38;5;241m=\u001b[39m ct\u001b[38;5;241m.\u001b[39mSolution(\u001b[38;5;124m'\u001b[39m\u001b[38;5;124mgri30.yaml\u001b[39m\u001b[38;5;124m'\u001b[39m)\n",
      "\u001b[1;31mNameError\u001b[0m: name 'pressures' is not defined"
     ]
    }
   ],
   "source": [
    "pressure = pressures[0]\n",
    "x0 = [-0.5, 0.5, 0.5, 0.5]\n",
    "gas = ct.Solution('gri30.yaml')\n",
    "\n",
    "sol = root(\n",
    "    find_equilibrium_root, x0, method='lm',\n",
    "    args=(temperature, pressure, components, moles_initial, stoich_coefficients, gas)\n",
    "    )\n",
    "\n",
    "print(f'Root-finding success: {sol.success}\\n')\n",
    "\n",
    "epsilon = sol.x[0]\n",
    "moles = sol.x[1:]\n",
    "mole_fractions = moles / np.sum(moles)\n",
    "\n",
    "\n",
    "# Check constraints:\n",
    "for idx, mole in enumerate(moles):\n",
    "    if mole < 0:\n",
    "        print(f'Error: moles of {components[idx]} below zero.')\n",
    "        break\n",
    "else:\n",
    "    print(f'Mole fractions at {pressure: .1f}:')\n",
    "    for idx, comp in enumerate(components):\n",
    "        print(f'{comp:3}: {mole_fractions[idx]: .3f}')"
   ]
  },
  {
   "cell_type": "code",
   "execution_count": 19,
   "id": "bceb7ffb",
   "metadata": {},
   "outputs": [
    {
     "ename": "NameError",
     "evalue": "name 'Q_' is not defined",
     "output_type": "error",
     "traceback": [
      "\u001b[1;31m---------------------------------------------------------------------------\u001b[0m",
      "\u001b[1;31mNameError\u001b[0m                                 Traceback (most recent call last)",
      "Cell \u001b[1;32mIn[19], line 1\u001b[0m\n\u001b[1;32m----> 1\u001b[0m pressure \u001b[38;5;241m=\u001b[39m Q_(\u001b[38;5;241m1\u001b[39m, \u001b[38;5;124m'\u001b[39m\u001b[38;5;124matm\u001b[39m\u001b[38;5;124m'\u001b[39m)\n\u001b[0;32m      3\u001b[0m \u001b[38;5;66;03m# range of temperatures in K\u001b[39;00m\n\u001b[0;32m      4\u001b[0m temperatures \u001b[38;5;241m=\u001b[39m np\u001b[38;5;241m.\u001b[39mlinspace(\u001b[38;5;241m200\u001b[39m, \u001b[38;5;241m1000\u001b[39m, \u001b[38;5;241m50\u001b[39m) \u001b[38;5;241m*\u001b[39m Q_(\u001b[38;5;124m'\u001b[39m\u001b[38;5;124mK\u001b[39m\u001b[38;5;124m'\u001b[39m)\n",
      "\u001b[1;31mNameError\u001b[0m: name 'Q_' is not defined"
     ]
    }
   ],
   "source": [
    "pressure = Q_(1, 'atm')\n",
    "\n",
    "# range of temperatures in K\n",
    "temperatures = np.linspace(200, 1000, 50) * Q_('K')\n",
    "\n",
    "for species in gas.species():\n",
    "    \n",
    "    entropies = np.zeros(len(temperatures)) * Q_('J/(K*kmol)')\n",
    "    entropies_ct = np.zeros(len(temperatures)) * Q_('J/(K*kmol)')\n",
    "    \n",
    "    for idx, temperature in enumerate(temperatures):\n",
    "        gas.TPX = to_si(temperature), to_si(pressure), f'{species.name}:1.0'\n",
    "        entropies_ct[idx] = Q_(gas.entropy_mole, 'J/(K*kmol)')\n",
    "        \n",
    "        entropies[idx] = get_entropy(temperature, pressure, species.name, gas)\n",
    "    \n",
    "    plt.plot(\n",
    "        to_si(temperatures), entropies.to('kJ/(kmol*K)').magnitude, '-',\n",
    "        color='tab:blue',\n",
    "        )\n",
    "    plt.plot(\n",
    "        to_si(temperatures), entropies_ct.to('kJ/(kmol*K)').magnitude, 'o', \n",
    "        fillstyle='none', color='tab:blue'\n",
    "        )\n",
    "    \n",
    "plt.xlabel('Temperature (K)')\n",
    "plt.ylabel('Molar specific entropy (kJ/kmol*K)')\n",
    "\n",
    "# text box properties\n",
    "props = dict(boxstyle='round', facecolor='white', alpha=0.6)\n",
    "\n",
    "plt.text(750, 168, 'Argon', bbox=props, ha='center', va='center')\n",
    "plt.text(750, 138, 'Helium', bbox=props, ha='center', va='center')\n",
    "\n",
    "plt.annotate(\n",
    "    'Monatomic oxygen', xy=(400,170), xytext=(300,180),\n",
    "    ha='center', va='center', bbox=props,\n",
    "    arrowprops=dict(arrowstyle='-')\n",
    "    )\n",
    "plt.annotate(\n",
    "    'Monatomic oxygen', xy=(400,150), xytext=(300,180),\n",
    "    ha='center', va='center', bbox=props,\n",
    "    arrowprops=dict(arrowstyle='-')\n",
    "    )\n",
    "\n",
    "plt.grid(True)\n",
    "plt.legend([\n",
    "    'Predicted by Sakur-Tetrode equation', \n",
    "    'Calculated by Cantera/NASA database'\n",
    "    ])\n",
    "plt.tight_layout()\n",
    "plt.show()"
   ]
  },
  {
   "cell_type": "code",
   "execution_count": 20,
   "id": "6b8c9c37",
   "metadata": {},
   "outputs": [
    {
     "name": "stdout",
     "output_type": "stream",
     "text": [
      "Roots: x =  1.467, y =  0.826\n"
     ]
    }
   ],
   "source": [
    "import numpy as np\n",
    "from scipy import optimize\n",
    "\n",
    "def system(vars):\n",
    "    x = vars[0]\n",
    "    y = vars[1]\n",
    "    \n",
    "    return [\n",
    "        x*np.log(x) - y**3,\n",
    "        np.sqrt(x) - (1/y)\n",
    "        ]\n",
    "\n",
    "sol = optimize.root(system, [1.0, 1.0])\n",
    "\n",
    "x = sol.x[0]\n",
    "y = sol.x[1]\n",
    "\n",
    "print(f'Roots: x = {x: .3f}, y = {y: .3f}')"
   ]
  },
  {
   "cell_type": "code",
   "execution_count": 21,
   "id": "55c2a178",
   "metadata": {},
   "outputs": [
    {
     "ename": "NameError",
     "evalue": "name 'Q_' is not defined",
     "output_type": "error",
     "traceback": [
      "\u001b[1;31m---------------------------------------------------------------------------\u001b[0m",
      "\u001b[1;31mNameError\u001b[0m                                 Traceback (most recent call last)",
      "Cell \u001b[1;32mIn[21], line 1\u001b[0m\n\u001b[1;32m----> 1\u001b[0m temp1 \u001b[38;5;241m=\u001b[39m Q_(\u001b[38;5;241m500\u001b[39m, \u001b[38;5;124m'\u001b[39m\u001b[38;5;124mK\u001b[39m\u001b[38;5;124m'\u001b[39m)\n\u001b[0;32m      2\u001b[0m temp2 \u001b[38;5;241m=\u001b[39m Q_(\u001b[38;5;241m1270\u001b[39m, \u001b[38;5;124m'\u001b[39m\u001b[38;5;124mK\u001b[39m\u001b[38;5;124m'\u001b[39m)\n\u001b[0;32m      3\u001b[0m pres \u001b[38;5;241m=\u001b[39m Q_(\u001b[38;5;241m500\u001b[39m, \u001b[38;5;124m'\u001b[39m\u001b[38;5;124mkPa\u001b[39m\u001b[38;5;124m'\u001b[39m)\n",
      "\u001b[1;31mNameError\u001b[0m: name 'Q_' is not defined"
     ]
    }
   ],
   "source": [
    "temp1 = Q_(500, 'K')\n",
    "temp2 = Q_(1270, 'K')\n",
    "pres = Q_(500, 'kPa')\n",
    "\n",
    "# Real gas\n",
    "air_real1 = ct.Nitrogen()\n",
    "air_real1.TP = temp1.to('K').magnitude, pres.to('Pa').magnitude \n",
    "\n",
    "air_real2 = ct.Nitrogen()\n",
    "air_real2.TP =  temp2.to('K').magnitude, pres.to('Pa').magnitude \n",
    "\n",
    "delta_u_real = Q_(air_real2.u - air_real1.u, 'J/kg')\n",
    "print(f'Δu for real gas: {delta_u_real: .2f}')\n",
    "\n",
    "# ideal gas\n",
    "air_ideal1 = ct.Solution('air.cti')\n",
    "air_ideal1.TPX = temp1.to('K').magnitude, pres.to('Pa').magnitude, 'N2:1.0'\n",
    "\n",
    "air_ideal2 = ct.Solution('air.cti')\n",
    "air_ideal2.TPX = temp2.to('K').magnitude, pres.to('Pa').magnitude, 'N2:1.0'\n",
    "\n",
    "delta_u_ideal = Q_(air_ideal2.u - air_ideal1.u, 'J/kg')\n",
    "print(f'Δu for ideal gas: {delta_u_ideal: .2f}')\n",
    "\n",
    "diff = 100*np.abs(delta_u_ideal-delta_u_real)/delta_u_real\n",
    "print(f'difference: {diff.magnitude: .2f}%')"
   ]
  },
  {
   "cell_type": "code",
   "execution_count": 22,
   "id": "b76c5304",
   "metadata": {},
   "outputs": [
    {
     "data": {
      "image/png": "[encoded data removed]",
      "text/plain": [
       "<Figure size 640x480 with 1 Axes>"
      ]
     },
     "metadata": {},
     "output_type": "display_data"
    }
   ],
   "source": [
    "import numpy as np\n",
    "import matplotlib.pyplot as plt\n",
    "\n",
    "# Define your function f(x)\n",
    "def f(x):\n",
    "    return x**2\n",
    "\n",
    "# Generate values for x\n",
    "x = np.linspace(-5, 5, 100)\n",
    "\n",
    "# Calculate the exact derivative of f(x)\n",
    "dfdx_exact = 2*x\n",
    "\n",
    "# Calculate the numerical derivative of f(x) using numpy's gradient function\n",
    "dfdx = np.gradient(f(x), x)\n",
    "\n",
    "# Plot the results\n",
    "plt.plot(x, dfdx_exact, label='Exact')\n",
    "plt.plot(x, dfdx, 'o', label='Numerical')\n",
    "plt.xlabel('x')\n",
    "plt.ylabel('df/dx')\n",
    "\n",
    "plt.grid(True)\n",
    "plt.legend()\n",
    "plt.show()"
   ]
  },
  {
   "cell_type": "code",
   "execution_count": 24,
   "id": "8d989a04",
   "metadata": {},
   "outputs": [
    {
     "data": {
      "text/latex": [
       "$\\displaystyle \\frac{d}{d x} x^{2} = 2 x$"
      ],
      "text/plain": [
       "d ⎛ 2⎞      \n",
       "──⎝x ⎠ = 2⋅x\n",
       "dx          "
      ]
     },
     "metadata": {},
     "output_type": "display_data"
    }
   ],
   "source": [
    "import sympy\n",
    "import matplotlib.pyplot as plt\n",
    "\n",
    "sympy.init_printing(use_latex='mathjax')\n",
    "\n",
    "x = sympy.symbols('x', real=True)\n",
    "\n",
    "f = x**2\n",
    "\n",
    "# take derivative of f with respect to x\n",
    "dfdx = sympy.diff(f, x)\n",
    "\n",
    "# this complicated expression is only necessary for printing.\n",
    "# It creates an equation object, that sets the unevaluated \n",
    "# derivative of f equal to the calculated derivative.\n",
    "display(sympy.Eq(sympy.Derivative(f), dfdx))"
   ]
  },
  {
   "cell_type": "code",
   "execution_count": 26,
   "id": "ff1cda5e",
   "metadata": {},
   "outputs": [
    {
     "data": {
      "image/png": "[encoded data removed]",
      "text/plain": [
       "<Figure size 640x480 with 1 Axes>"
      ]
     },
     "metadata": {},
     "output_type": "display_data"
    }
   ],
   "source": [
    "calc_derivative = sympy.lambdify(x, dfdx, 'numpy')\n",
    "\n",
    "x_vals = np.linspace(0, 1, 10)\n",
    "\n",
    "plt.plot(x_vals, 2*x_vals, label='Exact derivative')\n",
    "plt.plot(x_vals, calc_derivative(x_vals), 'o', label='SymPy derivative')\n",
    "\n",
    "plt.xlabel('x')\n",
    "plt.ylabel('df/dx')\n",
    "plt.grid(True)\n",
    "plt.legend()\n",
    "plt.show()"
   ]
  },
  {
   "cell_type": "code",
   "execution_count": 27,
   "id": "b10d3851",
   "metadata": {},
   "outputs": [
    {
     "ename": "ModuleNotFoundError",
     "evalue": "No module named 'pint'",
     "output_type": "error",
     "traceback": [
      "\u001b[1;31m---------------------------------------------------------------------------\u001b[0m",
      "\u001b[1;31mModuleNotFoundError\u001b[0m                       Traceback (most recent call last)",
      "Cell \u001b[1;32mIn[27], line 1\u001b[0m\n\u001b[1;32m----> 1\u001b[0m \u001b[38;5;28;01mfrom\u001b[39;00m \u001b[38;5;21;01mpint\u001b[39;00m \u001b[38;5;28;01mimport\u001b[39;00m UnitRegistry\n\u001b[0;32m      2\u001b[0m ureg \u001b[38;5;241m=\u001b[39m UnitRegistry()\n\u001b[0;32m      3\u001b[0m Q_ \u001b[38;5;241m=\u001b[39m ureg\u001b[38;5;241m.\u001b[39mQuantity\n",
      "\u001b[1;31mModuleNotFoundError\u001b[0m: No module named 'pint'"
     ]
    }
   ],
   "source": [
    "from pint import UnitRegistry\n",
    "ureg = UnitRegistry()\n",
    "Q_ = ureg.Quantity"
   ]
  },
  {
   "cell_type": "code",
   "execution_count": 28,
   "id": "3797b00b",
   "metadata": {},
   "outputs": [
    {
     "data": {
      "text/latex": [
       "$\\displaystyle - \\frac{R T_{c}}{\\left(- b + v_{c}\\right)^{2}} + \\frac{2 a}{v_{c}^{3}} = 0$"
      ],
      "text/plain": [
       "     R⋅T_c      2⋅a     \n",
       "- ─────────── + ──── = 0\n",
       "            2      3    \n",
       "  (-b + v_c)    v_c     "
      ]
     },
     "metadata": {},
     "output_type": "display_data"
    },
    {
     "data": {
      "text/latex": [
       "$\\displaystyle \\frac{2 R T_{c}}{\\left(- b + v_{c}\\right)^{3}} - \\frac{6 a}{v_{c}^{4}} = 0$"
      ],
      "text/plain": [
       "  2⋅R⋅T_c     6⋅a     \n",
       "─────────── - ──── = 0\n",
       "          3      4    \n",
       "(-b + v_c)    v_c     "
      ]
     },
     "metadata": {},
     "output_type": "display_data"
    }
   ],
   "source": [
    "import sympy\n",
    "sympy.init_printing(use_latex='mathjax')\n",
    "\n",
    "R, Tc, vc, Pc, a, b = sympy.symbols('R, T_c, v_c, P_c, a, b', real=True)\n",
    "\n",
    "equation_state = (R*Tc)/(vc - b) - (a/vc**2)\n",
    "\n",
    "# first derivative with respect to v\n",
    "first_deriv = sympy.diff(equation_state, vc)\n",
    "display(sympy.Eq(first_deriv, 0))\n",
    "\n",
    "second_deriv = sympy.diff(first_deriv, vc)\n",
    "display(sympy.Eq(second_deriv, 0))"
   ]
  },
  {
   "cell_type": "code",
   "execution_count": 29,
   "id": "a3b1c110",
   "metadata": {},
   "outputs": [
    {
     "data": {
      "text/latex": [
       "$\\displaystyle \\left\\{ a : \\frac{9 R T_{c} v_{c}}{8}, \\  b : \\frac{v_{c}}{3}\\right\\}$"
      ],
      "text/plain": [
       "⎧   9⋅R⋅T_c⋅v_c     v_c⎫\n",
       "⎨a: ───────────, b: ───⎬\n",
       "⎩        8           3 ⎭"
      ]
     },
     "metadata": {},
     "output_type": "display_data"
    }
   ],
   "source": [
    "sol = sympy.solve((\n",
    "    first_deriv, \n",
    "    second_deriv, \n",
    "    ), (a, b), dict=True)\n",
    "\n",
    "display(sol[0])\n",
    "\n",
    "a_expr = sol[0][a]\n",
    "b_expr = sol[0][b]"
   ]
  },
  {
   "cell_type": "code",
   "execution_count": 30,
   "id": "ca3b5afa",
   "metadata": {},
   "outputs": [
    {
     "data": {
      "text/latex": [
       "$\\displaystyle \\left\\{ a : \\frac{27 R^{2} T_{c}^{2}}{64 P_{c}}, \\  b : \\frac{R T_{c}}{8 P_{c}}, \\  v_{c} : \\frac{3 R T_{c}}{8 P_{c}}\\right\\}$"
      ],
      "text/plain": [
       "⎧       2    2                        ⎫\n",
       "⎪   27⋅R ⋅T_c      R⋅T_c       3⋅R⋅T_c⎪\n",
       "⎨a: ──────────, b: ─────, v_c: ───────⎬\n",
       "⎪     64⋅P_c       8⋅P_c        8⋅P_c ⎪\n",
       "⎩                                     ⎭"
      ]
     },
     "metadata": {},
     "output_type": "display_data"
    }
   ],
   "source": [
    "sol = sympy.solve((\n",
    "    a - a_expr, b - b_expr, Pc - ((R*Tc / (vc-b)) - (a / vc**2))\n",
    "    ), (a, b, vc), dict=True)\n",
    "display(sol[0])"
   ]
  },
  {
   "cell_type": "code",
   "execution_count": 31,
   "id": "d531d06c",
   "metadata": {},
   "outputs": [
    {
     "name": "stdout",
     "output_type": "stream",
     "text": [
      "Roots: [3.25277894+0.j         0.20694386+0.33299993j 0.20694386-0.33299993j]\n",
      "Number of real roots: 1\n",
      "T_r =  2.50\n",
      "P_r =  2.00\n",
      "v_r =  3.253\n"
     ]
    }
   ],
   "source": [
    "temp_r = 2.5\n",
    "pres_r = 2.0\n",
    "coeffs = [\n",
    "    1.0, \n",
    "    -((8.0*temp_r / (3.0*pres_r)) + (1.0 / 3.0)),\n",
    "    3.0 / pres_r,\n",
    "    -1.0 / pres_r\n",
    "    ]\n",
    "roots = np.roots(coeffs)\n",
    "print(f'Roots: {roots}')\n",
    "# get only real roots\n",
    "roots = roots.real[np.abs(roots.imag)<1e-5]\n",
    "\n",
    "print(f'Number of real roots: {len(roots)}')\n",
    "\n",
    "print(f'T_r = {temp_r: .2f}')\n",
    "print(f'P_r = {pres_r: .2f}')\n",
    "\n",
    "reduced_volumes = ','.join([f'{vol_r: .3f}' for vol_r in roots])\n",
    "print(f'v_r = {reduced_volumes}')"
   ]
  },
  {
   "cell_type": "code",
   "execution_count": 32,
   "id": "00a9f193",
   "metadata": {},
   "outputs": [
    {
     "name": "stdout",
     "output_type": "stream",
     "text": [
      "Number of real roots: 3\n",
      "T_r =  0.90\n",
      "P_r =  0.61\n",
      "v_r =  2.640, 1.017, 0.610\n"
     ]
    }
   ],
   "source": [
    "temp_r = 0.90\n",
    "pres_r = 0.61\n",
    "coeffs = [\n",
    "    1.0, \n",
    "    -((8.0*temp_r / (3.0*pres_r)) + (1.0 / 3.0)),\n",
    "    3.0 / pres_r,\n",
    "    -1.0 / pres_r\n",
    "    ]\n",
    "roots = np.roots(coeffs)\n",
    "roots = roots.real[np.abs(roots.imag)<1e-5]\n",
    "\n",
    "print(f'Number of real roots: {len(roots)}')\n",
    "\n",
    "print(f'T_r = {temp_r: .2f}')\n",
    "print(f'P_r = {pres_r: .2f}')\n",
    "\n",
    "reduced_volumes = ','.join([f'{vol_r: .3f}' for vol_r in roots])\n",
    "print(f'v_r = {reduced_volumes}')"
   ]
  },
  {
   "cell_type": "code",
   "execution_count": 10,
   "id": "220a0306",
   "metadata": {},
   "outputs": [
    {
     "name": "stdout",
     "output_type": "stream",
     "text": [
      "x yes\n",
      "y yes\n",
      "z yes\n"
     ]
    }
   ],
   "source": [
    "x = -20\n",
    "y = 1.0\n",
    "z = 0.5\n",
    "\n",
    "if isinstance (x, int):\n",
    "    print (\"x yes\")\n",
    "else:\n",
    "    print (\"x no\")\n",
    "    \n",
    "if isinstance (y, float):\n",
    "    print (\"y yes\")\n",
    "else:\n",
    "    print (\"y no\")\n",
    "    \n",
    "if isinstance (z, float):\n",
    "    print (\"z yes\")\n",
    "else:\n",
    "    print (\"z no\")"
   ]
  },
  {
   "cell_type": "code",
   "execution_count": 12,
   "id": "37d50529",
   "metadata": {},
   "outputs": [
    {
     "name": "stdout",
     "output_type": "stream",
     "text": [
      "bye\n"
     ]
    }
   ],
   "source": [
    "x = 11\n",
    "y = 20\n",
    "\n",
    "if x == 10:\n",
    "    print (\"hello\")\n",
    "else:\n",
    "    print (\"bye\")"
   ]
  },
  {
   "cell_type": "code",
   "execution_count": 16,
   "id": "bc0a7332",
   "metadata": {},
   "outputs": [
    {
     "name": "stdout",
     "output_type": "stream",
     "text": [
      "[[1 3 5]\n",
      " [2 5 1]\n",
      " [2 3 8]]\n"
     ]
    }
   ],
   "source": [
    "import numpy as np\n",
    "\n",
    "A = np.array([[1, 3, 5], [2, 5, 1], [2, 3, 8]])\n",
    "print(A)"
   ]
  },
  {
   "cell_type": "code",
   "execution_count": 49,
   "id": "527e63be",
   "metadata": {},
   "outputs": [
    {
     "name": "stdout",
     "output_type": "stream",
     "text": [
      "apple 0\n",
      "pishang 1\n",
      "cherry 2\n",
      "pinapple 3\n",
      "yes sir\n",
      "no bruh\n",
      "no bruh\n",
      "no bruh\n"
     ]
    }
   ],
   "source": [
    "fruit= [\"apple\",\"pishang\",\"cherry\",\"pinapple\" ]\n",
    "\n",
    "number = 0\n",
    "for item in fruit:\n",
    "    print (item, number)\n",
    "    number = number + 1\n",
    "    \n",
    "for item in fruit:\n",
    "    if 'apple' == item:\n",
    "        print ('yes sir')\n",
    "    else:\n",
    "        print ('no bruh')"
   ]
  },
  {
   "cell_type": "code",
   "execution_count": 19,
   "id": "71c23420",
   "metadata": {},
   "outputs": [
    {
     "name": "stdout",
     "output_type": "stream",
     "text": [
      "True\n"
     ]
    }
   ],
   "source": [
    "x = 10\n",
    "\n",
    "print (10 == x)"
   ]
  },
  {
   "cell_type": "code",
   "execution_count": 99,
   "id": "825cb381",
   "metadata": {},
   "outputs": [
    {
     "name": "stdout",
     "output_type": "stream",
     "text": [
      "Enter a number: 8\n",
      "You enter a number yay!\n",
      "This is executed no matter what!\n"
     ]
    }
   ],
   "source": [
    "try: \n",
    "    number = int(input(\"Enter a number: \"))\n",
    "except ValueError:\n",
    "    print(\"That is not a number!\")\n",
    "else:\n",
    "    print(\"You enter a number yay!\")\n",
    "finally:\n",
    "    print (\"This is executed no matter what!\")\n"
   ]
  },
  {
   "cell_type": "code",
   "execution_count": 27,
   "id": "c49f3677",
   "metadata": {},
   "outputs": [
    {
     "name": "stdout",
     "output_type": "stream",
     "text": [
      "dict_keys(['name', 'age'])\n"
     ]
    }
   ],
   "source": [
    "commander = {'name': 'Cale', \"age\": 20}\n",
    "\n",
    "print (commander.keys())"
   ]
  },
  {
   "cell_type": "code",
   "execution_count": 31,
   "id": "57c7eb05",
   "metadata": {},
   "outputs": [
    {
     "name": "stdout",
     "output_type": "stream",
     "text": [
      "200.5\n"
     ]
    }
   ],
   "source": [
    "def hey (a,b):\n",
    "    x = a + b\n",
    "    y = a - b\n",
    "    z = a * b\n",
    "    d = a / b\n",
    "    print (z + d)\n",
    "    \n",
    "hey (10,20)"
   ]
  },
  {
   "cell_type": "code",
   "execution_count": 86,
   "id": "cd5d13b6",
   "metadata": {},
   "outputs": [
    {
     "name": "stdout",
     "output_type": "stream",
     "text": [
      "6\n",
      "8\n",
      "10\n"
     ]
    }
   ],
   "source": [
    "number = 5\n",
    "while (number <= 100):\n",
    "    if number %2 == 0:\n",
    "        print (number)\n",
    "    \n",
    "    if number == 10:\n",
    "        break\n",
    "    number += 1"
   ]
  },
  {
   "cell_type": "code",
   "execution_count": null,
   "id": "dcfb1a9e",
   "metadata": {},
   "outputs": [],
   "source": [
    "x = 1\n",
    "print (x)"
   ]
  },
  {
   "cell_type": "code",
   "execution_count": 108,
   "id": "27ce1691",
   "metadata": {},
   "outputs": [
    {
     "name": "stdout",
     "output_type": "stream",
     "text": [
      "will you marry me?: no\n",
      "why? provide me with reason: bcz you are ugly\n",
      "b*tch I'm beautiful. You are just blind\n"
     ]
    }
   ],
   "source": [
    "hey = input(\"will you marry me?: \")\n",
    "if hey == \"yes\":\n",
    "    print (\"yeaahhhh!!\")\n",
    "if hey == \"no\":\n",
    "    result = (input(\"why? provide me with reason: \"))\n",
    "    if result == \"bcz I'm not ready\":\n",
    "        print (\"It's fine. I will wait\")\n",
    "    if result == \"bcz I like someone else\":\n",
    "        print (\"Who? I will kill him so you will choose me instead *go into yandere mode*\")\n",
    "    if result == \"bcz you are ugly\":\n",
    "        print (\"b*tch I'm beautiful. You are just blind\")\n",
    "    else:\n",
    "        print (\"I dont understand\")"
   ]
  },
  {
   "cell_type": "code",
   "execution_count": 114,
   "id": "95ba9370",
   "metadata": {},
   "outputs": [
    {
     "ename": "SyntaxError",
     "evalue": "invalid syntax (745913965.py, line 5)",
     "output_type": "error",
     "traceback": [
      "\u001b[1;36m  Cell \u001b[1;32mIn[114], line 5\u001b[1;36m\u001b[0m\n\u001b[1;33m    y = [for num in x: num^2]\u001b[0m\n\u001b[1;37m         ^\u001b[0m\n\u001b[1;31mSyntaxError\u001b[0m\u001b[1;31m:\u001b[0m invalid syntax\n"
     ]
    }
   ],
   "source": [
    "import math\n",
    "from matplotlib import pyplot as plt\n",
    "\n",
    "x = list(range(0,41))\n",
    "y = [for num in x: num^2]\n",
    "\n",
    "print (x)\n",
    "print (y)"
   ]
  },
  {
   "cell_type": "code",
   "execution_count": 137,
   "id": "ba626254",
   "metadata": {},
   "outputs": [],
   "source": [
    "def tcf (name, age, *roles, **add_infos):\n",
    "    print (\"name: \" + name)\n",
    "    print (\"age: \" + age)\n",
    "    print (\"role: \")\n",
    "    for role in roles:\n",
    "        print (\"-\" + role)\n",
    "    print (\"interesting facts: \")\n",
    "    for key, value in add_infos.items():\n",
    "        print (\"-\" + key.replace('_',' ').title() + \":\" + str(value))"
   ]
  },
  {
   "cell_type": "code",
   "execution_count": 140,
   "id": "684aa196",
   "metadata": {},
   "outputs": [
    {
     "name": "stdout",
     "output_type": "stream",
     "text": [
      "name: cale\n",
      "age: 20\n",
      "role: \n",
      "-\"trash\"(self proclaim)\n",
      "-commander of allied forces\n",
      "-hero who will never be seen again(by clopeh and fellow citizens)\n",
      "-real arm leader\n",
      "-young master silver shield\n",
      "interesting facts: \n",
      "-Past Name:Kim Rok Soo\n",
      "-Real Age:38\n"
     ]
    }
   ],
   "source": [
    "tcf('cale', '20', '\"trash\"(self proclaim)', 'commander of allied forces', 'hero who will never be seen again(by clopeh and fellow citizens)', 'real arm leader', 'young master silver shield', past_name='Kim Rok Soo', real_age='38' )"
   ]
  },
  {
   "cell_type": "code",
   "execution_count": null,
   "id": "e817cf0f",
   "metadata": {},
   "outputs": [],
   "source": []
  }
 ],
 "metadata": {
  "kernelspec": {
   "display_name": "Python 3 (ipykernel)",
   "language": "python",
   "name": "python3"
  },
  "language_info": {
   "codemirror_mode": {
    "name": "ipython",
    "version": 3
   },
   "file_extension": ".py",
   "mimetype": "text/x-python",
   "name": "python",
   "nbconvert_exporter": "python",
   "pygments_lexer": "ipython3",
   "version": "3.11.5"
  }
 },
 "nbformat": 4,
 "nbformat_minor": 5
}
