{
 "cells": [
  {
   "cell_type": "code",
   "execution_count": 1,
   "id": "21a70302",
   "metadata": {},
   "outputs": [
    {
     "name": "stdout",
     "output_type": "stream",
     "text": [
      "Alice is enrolled in Mathematics class. \n"
     ]
    }
   ],
   "source": [
    "def student_information(class_name, student_name):\n",
    "    # Display information about a student and their class.\n",
    "    print(student_name + \" is enrolled in \" + class_name + \" class. \")\n",
    "# Position arguments:\n",
    "student_information('Mathematics', 'Alice')\n"
   ]
  },
  {
   "cell_type": "code",
   "execution_count": 3,
   "id": "1ed91f43",
   "metadata": {},
   "outputs": [
    {
     "name": "stdout",
     "output_type": "stream",
     "text": [
      "Ahmed is enrolled in Politics class. \n"
     ]
    }
   ],
   "source": [
    "student_information(student_name=\"Ahmed\", class_name=\"Politics\")"
   ]
  },
  {
   "cell_type": "code",
   "execution_count": 9,
   "id": "f98dd175",
   "metadata": {},
   "outputs": [],
   "source": [
    "def enroll_student(student_name, course='Introduction to Python'):\n",
    "    # Enroll a student in a course with a default option.\n",
    "    print(\"Student Name: + \" + student_name)\n",
    "    print(\"Enrolled Course: \" + course)"
   ]
  },
  {
   "cell_type": "code",
   "execution_count": 10,
   "id": "af2265b6",
   "metadata": {},
   "outputs": [
    {
     "name": "stdout",
     "output_type": "stream",
     "text": [
      "Student Name: + Ali\n",
      "Enrolled Course: Introduction to Python\n"
     ]
    }
   ],
   "source": [
    "enroll_student(\"Ali\")"
   ]
  },
  {
   "cell_type": "markdown",
   "id": "465f4aac",
   "metadata": {},
   "source": [
    "# Variable Length Arguments:*args"
   ]
  },
  {
   "cell_type": "code",
   "execution_count": 11,
   "id": "cbd18955",
   "metadata": {},
   "outputs": [],
   "source": [
    "def enroll_in_courses(student_name, *courses):\n",
    "    # Enroll a student in multiple courses.\n",
    "    print(\"Student: \" + student_name)\n",
    "    print(\"Enrolled in:\")\n",
    "    for course in courses:\n",
    "        print(\"- \" + course)\n"
   ]
  },
  {
   "cell_type": "code",
   "execution_count": 12,
   "id": "f2df69ff",
   "metadata": {},
   "outputs": [
    {
     "name": "stdout",
     "output_type": "stream",
     "text": [
      "Student: Emily\n",
      "Enrolled in:\n",
      "- Biology 101\n",
      "- Chemistry 101\n",
      "- Physics 101\n"
     ]
    }
   ],
   "source": [
    "enroll_in_courses('Emily', 'Biology 101', 'Chemistry 101', 'Physics 101')"
   ]
  },
  {
   "cell_type": "markdown",
   "id": "cd0cb881",
   "metadata": {},
   "source": [
    "## Variable Length Arguments:**kwargs"
   ]
  },
  {
   "cell_type": "code",
   "execution_count": 14,
   "id": "df9bf811",
   "metadata": {},
   "outputs": [],
   "source": [
    "def enroll_student(student_name, **details):\n",
    "     # Enroll a student with additional details.\n",
    "    print(\"Enrolling \" + student_name + \" with the following details:\")\n",
    "    for detail, value in details.items():\n",
    "        print(\"- \" + detail.replace('_', ' ').title() + \": \" + str(value))"
   ]
  },
  {
   "cell_type": "code",
   "execution_count": 15,
   "id": "da1344f5",
   "metadata": {},
   "outputs": [
    {
     "name": "stdout",
     "output_type": "stream",
     "text": [
      "Enrolling Smith with the following details:\n",
      "- Course: Algebra II\n",
      "- Semester: One\n",
      "- Payment Method: Credit Card\n"
     ]
    }
   ],
   "source": [
    "enroll_student('Smith', course='Algebra II', semester='One', payment_method='Credit Card')"
   ]
  },
  {
   "cell_type": "code",
   "execution_count": 17,
   "id": "8845eebb",
   "metadata": {},
   "outputs": [],
   "source": [
    "def enroll_student(student_name, **details):\n",
    "     # Enroll a student with additional details.\n",
    "    print(\"Enrolling \" + student_name + \" with the following details:\")\n",
    "    for key, value in details.items():\n",
    "        print(value)"
   ]
  },
  {
   "cell_type": "code",
   "execution_count": 18,
   "id": "de25eeed",
   "metadata": {},
   "outputs": [
    {
     "name": "stdout",
     "output_type": "stream",
     "text": [
      "Enrolling Smith with the following details:\n",
      "Algebra II\n",
      "One\n",
      "Credit Card\n"
     ]
    }
   ],
   "source": [
    "enroll_student('Smith', course='Algebra II', semester='One', payment_method='Credit Card')"
   ]
  },
  {
   "cell_type": "code",
   "execution_count": 24,
   "id": "07d09d63",
   "metadata": {},
   "outputs": [],
   "source": [
    "def enroll_student(student_name, **details):\n",
    "     # Enroll a student with additional details.\n",
    "    print(\"Enrolling \" + student_name + \" with the following details:\")\n",
    "    for key, value in details.items():\n",
    "        print(key)"
   ]
  },
  {
   "cell_type": "code",
   "execution_count": 25,
   "id": "8bcab54c",
   "metadata": {},
   "outputs": [
    {
     "name": "stdout",
     "output_type": "stream",
     "text": [
      "Enrolling Smith with the following details:\n",
      "course\n",
      "semester\n",
      "payment_method\n"
     ]
    }
   ],
   "source": [
    "enroll_student('Smith', course='Algebra II', semester='One', payment_method='Credit Card')"
   ]
  },
  {
   "cell_type": "code",
   "execution_count": 22,
   "id": "f7dbd5ea",
   "metadata": {},
   "outputs": [],
   "source": [
    "def enroll_student(student_name, **details):\n",
    "     # Enroll a student with additional details.\n",
    "    print(\"Enrolling \" + student_name + \" with the following details:\")\n",
    "    for key, value in details.items():\n",
    "        print(key + \" = \" + value)"
   ]
  },
  {
   "cell_type": "code",
   "execution_count": 23,
   "id": "72e6f5c1",
   "metadata": {},
   "outputs": [
    {
     "name": "stdout",
     "output_type": "stream",
     "text": [
      "Enrolling Smith with the following details:\n",
      "course = Algebra II\n",
      "semester = One\n",
      "payment_method = Credit Card\n"
     ]
    }
   ],
   "source": [
    "enroll_student('Smith', course='Algebra II', semester='One', payment_method='Credit Card')"
   ]
  },
  {
   "cell_type": "code",
   "execution_count": null,
   "id": "818d3c8a",
   "metadata": {},
   "outputs": [],
   "source": []
  }
 ],
 "metadata": {
  "kernelspec": {
   "display_name": "Python 3 (ipykernel)",
   "language": "python",
   "name": "python3"
  },
  "language_info": {
   "codemirror_mode": {
    "name": "ipython",
    "version": 3
   },
   "file_extension": ".py",
   "mimetype": "text/x-python",
   "name": "python",
   "nbconvert_exporter": "python",
   "pygments_lexer": "ipython3",
   "version": "3.11.5"
  }
 },
 "nbformat": 4,
 "nbformat_minor": 5
}
