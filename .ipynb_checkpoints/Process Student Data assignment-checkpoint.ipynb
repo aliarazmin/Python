{
 "cells": [
  {
   "cell_type": "code",
   "execution_count": 15,
   "id": "520bab17",
   "metadata": {},
   "outputs": [],
   "source": [
    "import csv\n",
    "\n",
    "def process_students_file(input_file, output_file):\n",
    "    with open (input_file, mode='r', newline='') as file:\n",
    "        reader = csv.DictReader (file)\n",
    "        \n",
    "        filtered_students = []\n",
    "        for row in reader:\n",
    "            if row ['Grade'] in ['A', 'B']:\n",
    "                row['Status'] = 'Passed'\n",
    "                filtered_students.append(row)\n",
    "                \n",
    "    if filtered_students:\n",
    "        with open (output_file, mode='w', newline='') as file:\n",
    "            writer = csv.DictWriter(file, fieldnames=filtered_students[0].keys())\n",
    "            writer.writeheader()\n",
    "            writer.writerows(filtered_students)\n",
    "            \n",
    "process_students_file('students.csv', 'top_students.csv')\n"
   ]
  },
  {
   "cell_type": "code",
   "execution_count": 18,
   "id": "5a328f43",
   "metadata": {},
   "outputs": [
    {
     "ename": "IndexError",
     "evalue": "list index out of range",
     "output_type": "error",
     "traceback": [
      "\u001b[1;31m---------------------------------------------------------------------------\u001b[0m",
      "\u001b[1;31mIndexError\u001b[0m                                Traceback (most recent call last)",
      "Cell \u001b[1;32mIn[18], line 37\u001b[0m\n\u001b[0;32m     35\u001b[0m filtered_students \u001b[38;5;241m=\u001b[39m filter_students(student_data)\n\u001b[0;32m     36\u001b[0m students_with_status \u001b[38;5;241m=\u001b[39m add_status_column(filtered_students)\n\u001b[1;32m---> 37\u001b[0m write_csv(students_with_status, output_filename)\n\u001b[0;32m     39\u001b[0m \u001b[38;5;28mprint\u001b[39m(\u001b[38;5;124m\"\u001b[39m\u001b[38;5;124mFiltered data saved to \u001b[39m\u001b[38;5;124m\"\u001b[39m \u001b[38;5;241m+\u001b[39m output_filename)\n",
      "Cell \u001b[1;32mIn[18], line 24\u001b[0m, in \u001b[0;36mwrite_csv\u001b[1;34m(data, output_filename)\u001b[0m\n\u001b[0;32m     23\u001b[0m \u001b[38;5;28;01mdef\u001b[39;00m \u001b[38;5;21mwrite_csv\u001b[39m(data, output_filename):\n\u001b[1;32m---> 24\u001b[0m     fieldnames \u001b[38;5;241m=\u001b[39m data[\u001b[38;5;241m0\u001b[39m]\u001b[38;5;241m.\u001b[39mkeys()\n\u001b[0;32m     25\u001b[0m     \u001b[38;5;28;01mwith\u001b[39;00m \u001b[38;5;28mopen\u001b[39m(output_filename, \u001b[38;5;124m'\u001b[39m\u001b[38;5;124mw\u001b[39m\u001b[38;5;124m'\u001b[39m, newline\u001b[38;5;241m=\u001b[39m\u001b[38;5;124m'\u001b[39m\u001b[38;5;124m'\u001b[39m) \u001b[38;5;28;01mas\u001b[39;00m csvfile:\n\u001b[0;32m     26\u001b[0m         writer \u001b[38;5;241m=\u001b[39m csv\u001b[38;5;241m.\u001b[39mDictWriter(csvfile, fieldnames\u001b[38;5;241m=\u001b[39mfieldnames)\n",
      "\u001b[1;31mIndexError\u001b[0m: list index out of range"
     ]
    }
   ],
   "source": [
    "import csv\n",
    "\n",
    "def read_csv(filename):\n",
    "    data = []\n",
    "    with open(filename, 'r') as csvfile:\n",
    "        reader = csv.DictReader (csvfile)\n",
    "        for row in reader:\n",
    "            data.append (row)\n",
    "    return data\n",
    "\n",
    "def filter_students(data):\n",
    "    filtered_data = []\n",
    "    for student in data:\n",
    "        if student['Grade'] <= 'B':\n",
    "            filtered_data.append (student)\n",
    "    return filtered_data\n",
    "\n",
    "def add_status_column(data):\n",
    "    for student in data:\n",
    "        student['Status'] = 'Passed'\n",
    "    return data\n",
    "\n",
    "def write_csv(data, output_filename):\n",
    "    fieldnames = data[0].keys()\n",
    "    with open(output_filename, 'w', newline='') as csvfile:\n",
    "        writer = csv.DictWriter(csvfile, fieldnames=fieldnames)\n",
    "        writer.writeheader()\n",
    "        writer.writerows(data)\n",
    "        \n",
    "if __name__ == \"__main__\":\n",
    "    input_filename = \"students.csv\"\n",
    "    output_filename = \"top_students.csv\"\n",
    "    \n",
    "    student_data = read_csv(input_filename)\n",
    "    filtered_students = filter_students(student_data)\n",
    "    students_with_status = add_status_column(filtered_students)\n",
    "    write_csv(students_with_status, output_filename)\n",
    "    \n",
    "    print(\"Filtered data saved to \" + output_filename)"
   ]
  },
  {
   "cell_type": "code",
   "execution_count": null,
   "id": "dcf5644b",
   "metadata": {},
   "outputs": [],
   "source": []
  }
 ],
 "metadata": {
  "kernelspec": {
   "display_name": "Python 3 (ipykernel)",
   "language": "python",
   "name": "python3"
  },
  "language_info": {
   "codemirror_mode": {
    "name": "ipython",
    "version": 3
   },
   "file_extension": ".py",
   "mimetype": "text/x-python",
   "name": "python",
   "nbconvert_exporter": "python",
   "pygments_lexer": "ipython3",
   "version": "3.11.5"
  }
 },
 "nbformat": 4,
 "nbformat_minor": 5
}
