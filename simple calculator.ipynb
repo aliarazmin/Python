{
 "cells": [
  {
   "cell_type": "code",
   "execution_count": 5,
   "id": "139990f7",
   "metadata": {},
   "outputs": [
    {
     "name": "stdout",
     "output_type": "stream",
     "text": [
      "Enter the first number: 20\n",
      "Enter the second number: 5\n",
      "Enter an operation (+, -, *, /): *\n",
      "The result is: 100.0\n"
     ]
    }
   ],
   "source": [
    "def simple_calculator():\n",
    "    while True:\n",
    "        try:\n",
    "            # Ask the user for two numbers and an opeeration\n",
    "            num1 = float(input(\"Enter the first number: \"))\n",
    "            num2 = float(input(\"Enter the second number: \"))\n",
    "            operation = input(\"Enter an operation (+, -, *, /): \")\n",
    "            \n",
    "            # Perform calculation based on the operation\n",
    "            if operation == '+':\n",
    "                result = num1 + num2\n",
    "            elif operation == '-':\n",
    "                result = num1 - num2\n",
    "            elif operation == '*':\n",
    "                result = num1 * num2\n",
    "            elif operation == '/':\n",
    "                result = num1 / num2\n",
    "            else:\n",
    "                print(\"Invalid operation. Please choose +, -, *, or /.\")\n",
    "                continue\n",
    "                \n",
    "            # Dsiplay the result\n",
    "            print(f\"The result is: {result}\")\n",
    "            break\n",
    "            \n",
    "        except ValueError:\n",
    "            print(\"Invalid input. Please enter a number. \")\n",
    "        except ZeroDivisionError:\n",
    "            print(\"Error: Cannot divide by zero. \")\n",
    "        except Exception as e:\n",
    "            print(f\"An unexpected error occurred: {e}\" )\n",
    "            \n",
    "# Run the calculator\n",
    "simple_calculator()"
   ]
  },
  {
   "cell_type": "code",
   "execution_count": 6,
   "id": "3a0b60f2",
   "metadata": {},
   "outputs": [
    {
     "name": "stdout",
     "output_type": "stream",
     "text": [
      "Enter the first number: 20\n",
      "Enter the second number: 0\n",
      "Enter an operation (+, -, *, /): /\n",
      "Error: Cannot divide by zero. \n",
      "Enter the first number: haha\n",
      "Invalid input. Please enter a number. \n",
      "Enter the first number: 2.5\n",
      "Enter the second number: 7\n",
      "Enter an operation (+, -, *, /): -\n",
      "The result is: -4.5\n"
     ]
    }
   ],
   "source": [
    "def simple_calculator():\n",
    "    while True:\n",
    "        try:\n",
    "            # Ask the user for two numbers and an opeeration\n",
    "            num1 = float(input(\"Enter the first number: \"))\n",
    "            num2 = float(input(\"Enter the second number: \"))\n",
    "            operation = input(\"Enter an operation (+, -, *, /): \")\n",
    "            \n",
    "            # Perform calculation based on the operation\n",
    "            if operation == '+':\n",
    "                result = num1 + num2\n",
    "            elif operation == '-':\n",
    "                result = num1 - num2\n",
    "            elif operation == '*':\n",
    "                result = num1 * num2\n",
    "            elif operation == '/':\n",
    "                result = num1 / num2\n",
    "            else:\n",
    "                print(\"Invalid operation. Please choose +, -, *, or /.\")\n",
    "                continue\n",
    "                \n",
    "            # Dsiplay the result\n",
    "            print(f\"The result is: {result}\")\n",
    "            break\n",
    "            \n",
    "        except ValueError:\n",
    "            print(\"Invalid input. Please enter a number. \")\n",
    "        except ZeroDivisionError:\n",
    "            print(\"Error: Cannot divide by zero. \")\n",
    "        except Exception as e:\n",
    "            print(f\"An unexpected error occurred: {e}\" )\n",
    "            \n",
    "# Run the calculator\n",
    "simple_calculator()"
   ]
  },
  {
   "cell_type": "code",
   "execution_count": null,
   "id": "8e7dc93e",
   "metadata": {},
   "outputs": [],
   "source": []
  }
 ],
 "metadata": {
  "kernelspec": {
   "display_name": "Python 3 (ipykernel)",
   "language": "python",
   "name": "python3"
  },
  "language_info": {
   "codemirror_mode": {
    "name": "ipython",
    "version": 3
   },
   "file_extension": ".py",
   "mimetype": "text/x-python",
   "name": "python",
   "nbconvert_exporter": "python",
   "pygments_lexer": "ipython3",
   "version": "3.11.5"
  }
 },
 "nbformat": 4,
 "nbformat_minor": 5
}
