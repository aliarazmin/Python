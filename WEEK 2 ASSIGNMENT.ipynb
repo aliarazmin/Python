{
 "cells": [
  {
   "cell_type": "code",
   "execution_count": 1,
   "id": "69e4c5f2",
   "metadata": {},
   "outputs": [],
   "source": [
    "subjects = [\"Software\", \"Chemistry\", \"English\", \"Arabic\"]\n",
    "\n",
    "def subject_availability(subject_name):\n",
    "    if(is_available(subject_name)):\n",
    "        return \"the subject is available\"\n",
    "    else:\n",
    "        return \"the subject is not available\"\n",
    "    \n",
    "    \n",
    "def is_available(subject_name):\n",
    "    return subject_name in subjects"
   ]
  },
  {
   "cell_type": "code",
   "execution_count": 2,
   "id": "509ee73a",
   "metadata": {},
   "outputs": [
    {
     "name": "stdout",
     "output_type": "stream",
     "text": [
      "Please enter the name of the subjectEnglish\n",
      "the subject is available\n"
     ]
    }
   ],
   "source": [
    "input_subject = input(\"Please enter the name of the subject\")\n",
    "print(subject_availability(input_subject))"
   ]
  },
  {
   "cell_type": "code",
   "execution_count": 3,
   "id": "ddf690e5",
   "metadata": {},
   "outputs": [
    {
     "name": "stdout",
     "output_type": "stream",
     "text": [
      "Please enter the name of the subjectSchool\n",
      "the subject is not available\n"
     ]
    }
   ],
   "source": [
    "input_subject = input(\"Please enter the name of the subject\")\n",
    "print(subject_availability(input_subject))"
   ]
  },
  {
   "cell_type": "code",
   "execution_count": 4,
   "id": "6bcf5152",
   "metadata": {},
   "outputs": [
    {
     "name": "stdout",
     "output_type": "stream",
     "text": [
      "Please enter the name of the subjectenglish\n",
      "the subject is not available\n"
     ]
    }
   ],
   "source": [
    "input_subject = input(\"Please enter the name of the subject\")\n",
    "print(subject_availability(input_subject))"
   ]
  },
  {
   "cell_type": "code",
   "execution_count": null,
   "id": "9537c057",
   "metadata": {},
   "outputs": [],
   "source": []
  }
 ],
 "metadata": {
  "kernelspec": {
   "display_name": "Python 3 (ipykernel)",
   "language": "python",
   "name": "python3"
  },
  "language_info": {
   "codemirror_mode": {
    "name": "ipython",
    "version": 3
   },
   "file_extension": ".py",
   "mimetype": "text/x-python",
   "name": "python",
   "nbconvert_exporter": "python",
   "pygments_lexer": "ipython3",
   "version": "3.11.5"
  }
 },
 "nbformat": 4,
 "nbformat_minor": 5
}
