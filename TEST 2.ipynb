{
 "cells": [
  {
   "cell_type": "markdown",
   "id": "d5167b08",
   "metadata": {},
   "source": [
    "# QUESTION 1"
   ]
  },
  {
   "cell_type": "code",
   "execution_count": 17,
   "id": "84f8bb95",
   "metadata": {},
   "outputs": [],
   "source": [
    "# import the necessary libraries\n",
    "import numpy as np\n",
    "import scipy as sc\n",
    "import matplotlib.pyplot as plt"
   ]
  },
  {
   "cell_type": "code",
   "execution_count": 18,
   "id": "5346c123",
   "metadata": {},
   "outputs": [],
   "source": [
    "# initial condition\n",
    "y0 = 1"
   ]
  },
  {
   "cell_type": "code",
   "execution_count": 19,
   "id": "b06b0f66",
   "metadata": {},
   "outputs": [],
   "source": [
    "# differential equation\n",
    "def dydt (y,t):\n",
    "    dydt = -2*y*t\n",
    "    return (dydt)"
   ]
  },
  {
   "cell_type": "code",
   "execution_count": 20,
   "id": "ac138890",
   "metadata": {},
   "outputs": [],
   "source": [
    "# create the x axis for the integration\n",
    "start = 0\n",
    "end = 2\n",
    "t = np.linspace (start, end, end)"
   ]
  },
  {
   "cell_type": "code",
   "execution_count": 21,
   "id": "10e7c166",
   "metadata": {},
   "outputs": [],
   "source": [
    "yinitial = np.linspace (y0, y0, end)"
   ]
  },
  {
   "cell_type": "code",
   "execution_count": 22,
   "id": "7000b950",
   "metadata": {},
   "outputs": [],
   "source": [
    "# integration of the differential equation\n",
    "y = sc.integrate.odeint (dydt, y0, t)"
   ]
  },
  {
   "cell_type": "code",
   "execution_count": 16,
   "id": "c29e2d25",
   "metadata": {},
   "outputs": [
    {
     "data": {
      "image/png": "[encoded data removed]",
      "text/plain": [
       "<Figure size 640x480 with 1 Axes>"
      ]
     },
     "metadata": {},
     "output_type": "display_data"
    }
   ],
   "source": [
    "# plot the results\n",
    "plt.figure()\n",
    "plt.plot (t, y, 'r')\n",
    "plt.title ('y(t) vs t')\n",
    "plt.xlabel ('t')\n",
    "plt.ylabel ('y(t)')\n",
    "plt.show()"
   ]
  },
  {
   "cell_type": "markdown",
   "id": "f5431a4d",
   "metadata": {},
   "source": [
    "# QUESTION 2"
   ]
  },
  {
   "cell_type": "code",
   "execution_count": 23,
   "id": "84ead0b2",
   "metadata": {},
   "outputs": [],
   "source": [
    "# import the necessary libraries\n",
    "import numpy as np\n",
    "import scipy as sc\n",
    "\n",
    "# state the coefficient matrix\n",
    "A = np.array ([[2,4,6], [5,3,2], [7,8,9]])\n",
    "# state the coefficient vector\n",
    "B = np.array ([18,13,30])"
   ]
  },
  {
   "cell_type": "code",
   "execution_count": 24,
   "id": "02e1adba",
   "metadata": {},
   "outputs": [
    {
     "name": "stdout",
     "output_type": "stream",
     "text": [
      "[ 4.5 -7.5  6.5]\n"
     ]
    }
   ],
   "source": [
    "# using the solve function to find the solution of the system of equation\n",
    "solution = sc.linalg.solve (A,B)\n",
    "\n",
    "print (solution)"
   ]
  },
  {
   "cell_type": "markdown",
   "id": "2272ce3b",
   "metadata": {},
   "source": [
    "# QUESTION 3"
   ]
  },
  {
   "cell_type": "code",
   "execution_count": 33,
   "id": "e4b580a4",
   "metadata": {},
   "outputs": [],
   "source": [
    "import requests \n",
    "\n",
    "def get_temperature_change (number_day, data):\n",
    "    for number_info in data:\n",
    "        if number_info [\"number\"].lower() == number_day.lower():\n",
    "            return number_day [\"temperature\"]\n",
    "        return None\n",
    "    \n",
    "def main():\n",
    "    url = \"https://api.open-meteo.com/v1/forecast?latitude=2.5&longitude=112.5&hourly=temperature_2m&timezone=Asia%2FSingapore&forecast_days=1\"\n",
    "    \n",
    "    response = requests.get (url)\n",
    "    \n",
    "    if response.status.code == 200:\n",
    "        data = response.json()\n",
    "        \n",
    "        while (number_day <=16):\n",
    "            number_day = input (\"Please enter the number of days for the forecast (type 'exit' to 'end'): \").capitalize()\n",
    "            \n",
    "            if number_day.lower() == \"exit\":\n",
    "                break\n",
    "                \n",
    "            temperature = get_temperature_change (number_day, data)\n",
    "        \n",
    "            \n",
    "            if temperature is not None:\n",
    "                print (f\"Temperature change of day {number_day}: {temperature}\")\n",
    "            else:\n",
    "                print (f\"{number_day} is not found in the data.\")\n",
    "        else:\n",
    "            print (f\"Failed to fetch data. Status code: {response.status_code}\")\n",
    "            \n",
    "    if __number__ == \"__main__\":\n",
    "        main()\n",
    "                "
   ]
  },
  {
   "cell_type": "code",
   "execution_count": 29,
   "id": "0a1691ff",
   "metadata": {},
   "outputs": [],
   "source": [
    "# import the necessary libraries\n",
    "import numpy as np\n",
    "import matplotlib.pyplot as plt"
   ]
  },
  {
   "cell_type": "code",
   "execution_count": 32,
   "id": "92152880",
   "metadata": {},
   "outputs": [
    {
     "ename": "NameError",
     "evalue": "name 'number_day' is not defined",
     "output_type": "error",
     "traceback": [
      "\u001b[1;31m---------------------------------------------------------------------------\u001b[0m",
      "\u001b[1;31mNameError\u001b[0m                                 Traceback (most recent call last)",
      "Cell \u001b[1;32mIn[32], line 2\u001b[0m\n\u001b[0;32m      1\u001b[0m plt\u001b[38;5;241m.\u001b[39mfigure()\n\u001b[1;32m----> 2\u001b[0m plt\u001b[38;5;241m.\u001b[39mplot (number_day, temperature, \u001b[38;5;124m'\u001b[39m\u001b[38;5;124mr\u001b[39m\u001b[38;5;124m'\u001b[39m)\n\u001b[0;32m      3\u001b[0m plt\u001b[38;5;241m.\u001b[39mtitle (\u001b[38;5;124mf\u001b[39m\u001b[38;5;124m'\u001b[39m\u001b[38;5;124mVisualization of hourly temperature of day \u001b[39m\u001b[38;5;132;01m{\u001b[39;00mnumber_day\u001b[38;5;132;01m}\u001b[39;00m\u001b[38;5;124m at \u001b[39m\u001b[38;5;132;01m{\u001b[39;00mlongitude\u001b[38;5;132;01m}\u001b[39;00m\u001b[38;5;124m, \u001b[39m\u001b[38;5;132;01m{\u001b[39;00mlatitude\u001b[38;5;132;01m}\u001b[39;00m\u001b[38;5;124m and \u001b[39m\u001b[38;5;132;01m{\u001b[39;00melevation\u001b[38;5;132;01m}\u001b[39;00m\u001b[38;5;124m'\u001b[39m)\n\u001b[0;32m      4\u001b[0m plt\u001b[38;5;241m.\u001b[39mxlabel (\u001b[38;5;124m'\u001b[39m\u001b[38;5;124mNumber of forecasts days\u001b[39m\u001b[38;5;124m'\u001b[39m)\n",
      "\u001b[1;31mNameError\u001b[0m: name 'number_day' is not defined"
     ]
    },
    {
     "data": {
      "text/plain": [
       "<Figure size 640x480 with 0 Axes>"
      ]
     },
     "metadata": {},
     "output_type": "display_data"
    }
   ],
   "source": [
    "# plotting the chart\n",
    "plt.figure()\n",
    "plt.plot (number_day, temperature, 'r')\n",
    "plt.title (f'Visualization of hourly temperature of day {number_day} at {longitude}, {latitude} and {elevation}')\n",
    "plt.xlabel ('Number of forecasts days')\n",
    "plt.ylabel ('Temperature change')\n",
    "plt.grid (True, which = 'both', linestyle = '--', linewitdh = '0.5')\n",
    "plt.show()"
   ]
  },
  {
   "cell_type": "code",
   "execution_count": null,
   "id": "81e03ffb",
   "metadata": {},
   "outputs": [],
   "source": []
  }
 ],
 "metadata": {
  "kernelspec": {
   "display_name": "Python 3 (ipykernel)",
   "language": "python",
   "name": "python3"
  },
  "language_info": {
   "codemirror_mode": {
    "name": "ipython",
    "version": 3
   },
   "file_extension": ".py",
   "mimetype": "text/x-python",
   "name": "python",
   "nbconvert_exporter": "python",
   "pygments_lexer": "ipython3",
   "version": "3.11.5"
  }
 },
 "nbformat": 4,
 "nbformat_minor": 5
}
