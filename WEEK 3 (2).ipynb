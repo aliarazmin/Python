{
 "cells": [
  {
   "cell_type": "code",
   "execution_count": 1,
   "id": "04005b38",
   "metadata": {},
   "outputs": [
    {
     "name": "stdout",
     "output_type": "stream",
     "text": [
      "1\n",
      "2\n",
      "3\n",
      "4\n",
      "5\n",
      "6\n",
      "7\n",
      "8\n",
      "9\n"
     ]
    }
   ],
   "source": [
    "count = 1\n",
    "while (count < 10):\n",
    "    print (count)\n",
    "    count = count + 1"
   ]
  },
  {
   "cell_type": "code",
   "execution_count": 2,
   "id": "caa3143a",
   "metadata": {},
   "outputs": [
    {
     "name": "stdout",
     "output_type": "stream",
     "text": [
      "this is even number:  2\n",
      "this is even number:  4\n",
      "this is even number:  6\n",
      "this is even number:  8\n",
      "this is even number:  10\n",
      "this is even number:  12\n",
      "this is even number:  14\n",
      "this is even number:  16\n",
      "this is even number:  18\n",
      "this is even number:  20\n",
      "this is even number:  22\n",
      "this is even number:  24\n",
      "this is even number:  26\n",
      "this is even number:  28\n",
      "this is even number:  30\n",
      "this is even number:  32\n",
      "this is even number:  34\n",
      "this is even number:  36\n",
      "this is even number:  38\n",
      "this is even number:  40\n",
      "this is even number:  42\n",
      "this is even number:  44\n",
      "this is even number:  46\n",
      "this is even number:  48\n",
      "this is even number:  50\n",
      "this is even number:  52\n",
      "this is even number:  54\n",
      "this is even number:  56\n",
      "this is even number:  58\n",
      "this is even number:  60\n",
      "this is even number:  62\n",
      "this is even number:  64\n",
      "this is even number:  66\n",
      "this is even number:  68\n",
      "this is even number:  70\n",
      "this is even number:  72\n",
      "this is even number:  74\n",
      "this is even number:  76\n",
      "this is even number:  78\n",
      "this is even number:  80\n",
      "this is even number:  82\n",
      "this is even number:  84\n",
      "this is even number:  86\n",
      "this is even number:  88\n",
      "this is even number:  90\n",
      "this is even number:  92\n",
      "this is even number:  94\n",
      "this is even number:  96\n",
      "this is even number:  98\n",
      "this is even number:  100\n"
     ]
    }
   ],
   "source": [
    "count = 1\n",
    "while (count <= 100):\n",
    "    if count % 2 == 0:\n",
    "        print (\"this is even number: \", count)\n",
    "    count = count + 1"
   ]
  },
  {
   "cell_type": "code",
   "execution_count": 3,
   "id": "b6f3045e",
   "metadata": {},
   "outputs": [
    {
     "name": "stdout",
     "output_type": "stream",
     "text": [
      "this is even number:  2\n"
     ]
    }
   ],
   "source": [
    "count = 1\n",
    "while (count <= 100):\n",
    "    if count % 2 == 0:\n",
    "        print (\"this is even number: \", count)\n",
    "        break\n",
    "    count = count + 1"
   ]
  },
  {
   "cell_type": "code",
   "execution_count": null,
   "id": "4f60c062",
   "metadata": {},
   "outputs": [
    {
     "name": "stdout",
     "output_type": "stream",
     "text": [
      "1\n",
      "2\n",
      "3\n",
      "4\n"
     ]
    }
   ],
   "source": [
    "count = 1\n",
    "while (count <= 100):\n",
    "    if count == 5:\n",
    "        continue     \n",
    "    print (count)\n",
    "    count = count + 1"
   ]
  },
  {
   "cell_type": "code",
   "execution_count": null,
   "id": "c3a96c02",
   "metadata": {},
   "outputs": [],
   "source": [
    "for num in range(5):\n",
    "    if num == 2:\n",
    "        continue\n",
    "    print (num)"
   ]
  },
  {
   "cell_type": "code",
   "execution_count": null,
   "id": "89f50b6a",
   "metadata": {},
   "outputs": [],
   "source": []
  },
  {
   "cell_type": "code",
   "execution_count": null,
   "id": "f2e58491",
   "metadata": {},
   "outputs": [],
   "source": []
  }
 ],
 "metadata": {
  "kernelspec": {
   "display_name": "Python 3 (ipykernel)",
   "language": "python",
   "name": "python3"
  },
  "language_info": {
   "codemirror_mode": {
    "name": "ipython",
    "version": 3
   },
   "file_extension": ".py",
   "mimetype": "text/x-python",
   "name": "python",
   "nbconvert_exporter": "python",
   "pygments_lexer": "ipython3",
   "version": "3.11.5"
  }
 },
 "nbformat": 4,
 "nbformat_minor": 5
}
